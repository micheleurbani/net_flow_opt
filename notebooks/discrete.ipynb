{
 "cells": [
  {
   "cell_type": "code",
   "execution_count": 1,
   "metadata": {},
   "outputs": [],
   "source": [
    "import os\n",
    "import sys\n",
    "module_path = os.path.abspath(os.path.join('..'))\n",
    "if module_path not in sys.path:\n",
    "    sys.path.append(module_path)\n",
    "\n",
    "from pymoo.algorithms.moo.nsga2 import NSGA2\n",
    "from pymoo.optimize import minimize\n",
    "from pymoo.operators.crossover.sbx import SBX\n",
    "from pymoo.operators.mutation.pm import PM\n",
    "from pymoo.operators.repair.rounding import RoundingRepair\n",
    "from pymoo.operators.sampling.rnd import IntegerRandomSampling\n",
    "from pymoo.visualization.scatter import Scatter\n",
    "\n",
    "from net_flow_opt.utils import components, structure, activities_duration\n",
    "from net_flow_opt.system import System\n",
    "from net_flow_opt.scheduler import  Plan, Activity\n",
    "from net_flow_opt.discrete_model import DiscreteModel\n"
   ]
  },
  {
   "cell_type": "markdown",
   "metadata": {},
   "source": [
    "Main parameters of the experiment are declared here."
   ]
  },
  {
   "cell_type": "code",
   "execution_count": 2,
   "metadata": {},
   "outputs": [],
   "source": [
    "pop_size = 150\n",
    "termination = ('n_gen', 50)\n",
    "seed = 1124"
   ]
  },
  {
   "cell_type": "markdown",
   "metadata": {},
   "source": [
    "The cells below repeat the experiment with a different number of resources."
   ]
  },
  {
   "cell_type": "code",
   "execution_count": 3,
   "metadata": {},
   "outputs": [],
   "source": [
    "resources = 3\n",
    "\n",
    "system = System(structure, resources, components)\n",
    "\n",
    "dates = [c.x_star for c in components]\n",
    "\n",
    "original_activities = [\n",
    "    Activity(component, date, duration)\n",
    "    for component, date, duration in zip(system.components, dates, activities_duration)\n",
    "]\n",
    "\n",
    "original_plan = Plan(\n",
    "    system=system,\n",
    "    activities=original_activities\n",
    ")\n",
    "\n",
    "problem = DiscreteModel(\n",
    "    system=system,\n",
    "    original_plan=original_plan,\n",
    "    resources=resources,\n",
    ")\n",
    "\n",
    "algorithm = NSGA2(\n",
    "    sampling=IntegerRandomSampling(),\n",
    "    crossover=SBX(prob=1.0, eta=3.0, vtype=float, repair=RoundingRepair()),\n",
    "    mutation=PM(prob=1.0, eta=3.0, vtype=float, repair=RoundingRepair()),\n",
    "    pop_size=pop_size,\n",
    "    eliminate_duplicates=True,\n",
    ")"
   ]
  },
  {
   "cell_type": "markdown",
   "metadata": {},
   "source": [
    "Run the experiment using the number of iterations to stop the algorithm."
   ]
  },
  {
   "cell_type": "code",
   "execution_count": 4,
   "metadata": {},
   "outputs": [
    {
     "name": "stdout",
     "output_type": "stream",
     "text": [
      "==========================================================================================\n",
      "n_gen  |  n_eval  | n_nds  |     cv_min    |     cv_avg    |      eps      |   indicator  \n",
      "==========================================================================================\n",
      "     1 |      150 |      3 |  0.000000E+00 |  0.0400000000 |             - |             -\n",
      "     2 |      300 |      7 |  0.000000E+00 |  0.000000E+00 |  0.0073611538 |         ideal\n",
      "     3 |      450 |     10 |  0.000000E+00 |  0.000000E+00 |  0.2299813179 |         ideal\n",
      "     4 |      600 |      8 |  0.000000E+00 |  0.000000E+00 |  0.1431731663 |         ideal\n",
      "     5 |      750 |     11 |  0.000000E+00 |  0.000000E+00 |  0.0495378620 |         ideal\n",
      "     6 |      900 |     11 |  0.000000E+00 |  0.000000E+00 |  0.0501423554 |         ideal\n"
     ]
    },
    {
     "name": "stderr",
     "output_type": "stream",
     "text": [
      "/home/miki/.cache/pypoetry/virtualenvs/net-flow-opt-nxkwTGQf-py3.10/lib/python3.10/site-packages/scipy/optimize/_hessian_update_strategy.py:182: UserWarning: delta_grad == 0.0. Check if the approximated function is linear. If the function is linear better results can be obtained by defining the Hessian as zero instead of using quasi-Newton approximations.\n",
      "  warn('delta_grad == 0.0. Check if the approximated '\n"
     ]
    },
    {
     "name": "stdout",
     "output_type": "stream",
     "text": [
      "     7 |     1050 |     13 |  0.000000E+00 |  0.000000E+00 |  0.0120858843 |         ideal\n"
     ]
    },
    {
     "name": "stderr",
     "output_type": "stream",
     "text": [
      "/home/miki/.cache/pypoetry/virtualenvs/net-flow-opt-nxkwTGQf-py3.10/lib/python3.10/site-packages/scipy/optimize/_hessian_update_strategy.py:182: UserWarning: delta_grad == 0.0. Check if the approximated function is linear. If the function is linear better results can be obtained by defining the Hessian as zero instead of using quasi-Newton approximations.\n",
      "  warn('delta_grad == 0.0. Check if the approximated '\n",
      "/home/miki/.cache/pypoetry/virtualenvs/net-flow-opt-nxkwTGQf-py3.10/lib/python3.10/site-packages/scipy/optimize/_hessian_update_strategy.py:182: UserWarning: delta_grad == 0.0. Check if the approximated function is linear. If the function is linear better results can be obtained by defining the Hessian as zero instead of using quasi-Newton approximations.\n",
      "  warn('delta_grad == 0.0. Check if the approximated '\n"
     ]
    },
    {
     "name": "stdout",
     "output_type": "stream",
     "text": [
      "     8 |     1200 |     10 |  0.000000E+00 |  0.000000E+00 |  0.0662595470 |         ideal\n",
      "     9 |     1350 |     11 |  0.000000E+00 |  0.000000E+00 |  0.1504236607 |         ideal\n",
      "    10 |     1500 |     16 |  0.000000E+00 |  0.000000E+00 |  0.0253347579 |             f\n",
      "    11 |     1650 |     20 |  0.000000E+00 |  0.000000E+00 |  0.0045958265 |         ideal\n"
     ]
    },
    {
     "name": "stderr",
     "output_type": "stream",
     "text": [
      "/home/miki/.cache/pypoetry/virtualenvs/net-flow-opt-nxkwTGQf-py3.10/lib/python3.10/site-packages/scipy/optimize/_hessian_update_strategy.py:182: UserWarning: delta_grad == 0.0. Check if the approximated function is linear. If the function is linear better results can be obtained by defining the Hessian as zero instead of using quasi-Newton approximations.\n",
      "  warn('delta_grad == 0.0. Check if the approximated '\n"
     ]
    },
    {
     "name": "stdout",
     "output_type": "stream",
     "text": [
      "    12 |     1800 |     20 |  0.000000E+00 |  0.000000E+00 |  0.0138761242 |         ideal\n"
     ]
    },
    {
     "name": "stderr",
     "output_type": "stream",
     "text": [
      "/home/miki/.cache/pypoetry/virtualenvs/net-flow-opt-nxkwTGQf-py3.10/lib/python3.10/site-packages/scipy/optimize/_hessian_update_strategy.py:182: UserWarning: delta_grad == 0.0. Check if the approximated function is linear. If the function is linear better results can be obtained by defining the Hessian as zero instead of using quasi-Newton approximations.\n",
      "  warn('delta_grad == 0.0. Check if the approximated '\n"
     ]
    },
    {
     "name": "stdout",
     "output_type": "stream",
     "text": [
      "    13 |     1950 |     18 |  0.000000E+00 |  0.000000E+00 |  0.0132029258 |             f\n",
      "    14 |     2100 |     14 |  0.000000E+00 |  0.000000E+00 |  0.0255029953 |             f\n"
     ]
    },
    {
     "name": "stderr",
     "output_type": "stream",
     "text": [
      "/home/miki/.cache/pypoetry/virtualenvs/net-flow-opt-nxkwTGQf-py3.10/lib/python3.10/site-packages/scipy/optimize/_hessian_update_strategy.py:182: UserWarning: delta_grad == 0.0. Check if the approximated function is linear. If the function is linear better results can be obtained by defining the Hessian as zero instead of using quasi-Newton approximations.\n",
      "  warn('delta_grad == 0.0. Check if the approximated '\n"
     ]
    },
    {
     "name": "stdout",
     "output_type": "stream",
     "text": [
      "    15 |     2250 |     16 |  0.000000E+00 |  0.000000E+00 |  0.0160995937 |             f\n",
      "    16 |     2400 |     17 |  0.000000E+00 |  0.000000E+00 |  0.0026005267 |         ideal\n"
     ]
    },
    {
     "name": "stderr",
     "output_type": "stream",
     "text": [
      "/home/miki/.cache/pypoetry/virtualenvs/net-flow-opt-nxkwTGQf-py3.10/lib/python3.10/site-packages/scipy/optimize/_hessian_update_strategy.py:182: UserWarning: delta_grad == 0.0. Check if the approximated function is linear. If the function is linear better results can be obtained by defining the Hessian as zero instead of using quasi-Newton approximations.\n",
      "  warn('delta_grad == 0.0. Check if the approximated '\n",
      "/home/miki/.cache/pypoetry/virtualenvs/net-flow-opt-nxkwTGQf-py3.10/lib/python3.10/site-packages/scipy/optimize/_hessian_update_strategy.py:182: UserWarning: delta_grad == 0.0. Check if the approximated function is linear. If the function is linear better results can be obtained by defining the Hessian as zero instead of using quasi-Newton approximations.\n",
      "  warn('delta_grad == 0.0. Check if the approximated '\n"
     ]
    },
    {
     "name": "stdout",
     "output_type": "stream",
     "text": [
      "    17 |     2550 |     16 |  0.000000E+00 |  0.000000E+00 |  0.0060354366 |             f\n"
     ]
    },
    {
     "name": "stderr",
     "output_type": "stream",
     "text": [
      "/home/miki/.cache/pypoetry/virtualenvs/net-flow-opt-nxkwTGQf-py3.10/lib/python3.10/site-packages/scipy/optimize/_hessian_update_strategy.py:182: UserWarning: delta_grad == 0.0. Check if the approximated function is linear. If the function is linear better results can be obtained by defining the Hessian as zero instead of using quasi-Newton approximations.\n",
      "  warn('delta_grad == 0.0. Check if the approximated '\n"
     ]
    },
    {
     "name": "stdout",
     "output_type": "stream",
     "text": [
      "    18 |     2700 |     17 |  0.000000E+00 |  0.000000E+00 |  0.0161034925 |             f\n",
      "    19 |     2850 |     18 |  0.000000E+00 |  0.000000E+00 |  0.0051529887 |             f\n",
      "    20 |     3000 |     22 |  0.000000E+00 |  0.000000E+00 |  0.0051403825 |             f\n",
      "    21 |     3150 |     20 |  0.000000E+00 |  0.000000E+00 |  0.1556289546 |         ideal\n",
      "    22 |     3300 |     22 |  0.000000E+00 |  0.000000E+00 |  0.0039990503 |             f\n",
      "    23 |     3450 |     23 |  0.000000E+00 |  0.000000E+00 |  0.0771850955 |         ideal\n",
      "    24 |     3600 |     25 |  0.000000E+00 |  0.000000E+00 |  0.0061432190 |             f\n",
      "    25 |     3750 |     24 |  0.000000E+00 |  0.000000E+00 |  0.2306813048 |         nadir\n",
      "    26 |     3900 |     24 |  0.000000E+00 |  0.000000E+00 |  0.0018728010 |             f\n",
      "    27 |     4050 |     26 |  0.000000E+00 |  0.000000E+00 |  0.0046738112 |         ideal\n",
      "    28 |     4200 |     25 |  0.000000E+00 |  0.000000E+00 |  0.0029479633 |             f\n",
      "    29 |     4350 |     27 |  0.000000E+00 |  0.000000E+00 |  0.0011062316 |             f\n",
      "    30 |     4500 |     27 |  0.000000E+00 |  0.000000E+00 |  0.0088131762 |             f\n",
      "    31 |     4650 |     27 |  0.000000E+00 |  0.000000E+00 |  0.0004984832 |             f\n",
      "    32 |     4800 |     29 |  0.000000E+00 |  0.000000E+00 |  0.0004641054 |             f\n"
     ]
    },
    {
     "name": "stderr",
     "output_type": "stream",
     "text": [
      "/home/miki/.cache/pypoetry/virtualenvs/net-flow-opt-nxkwTGQf-py3.10/lib/python3.10/site-packages/scipy/optimize/_hessian_update_strategy.py:182: UserWarning: delta_grad == 0.0. Check if the approximated function is linear. If the function is linear better results can be obtained by defining the Hessian as zero instead of using quasi-Newton approximations.\n",
      "  warn('delta_grad == 0.0. Check if the approximated '\n"
     ]
    },
    {
     "name": "stdout",
     "output_type": "stream",
     "text": [
      "    33 |     4950 |     28 |  0.000000E+00 |  0.000000E+00 |  0.0006488189 |             f\n",
      "    34 |     5100 |     30 |  0.000000E+00 |  0.000000E+00 |  0.0026761061 |         ideal\n",
      "    35 |     5250 |     29 |  0.000000E+00 |  0.000000E+00 |  0.0024222041 |             f\n"
     ]
    },
    {
     "name": "stderr",
     "output_type": "stream",
     "text": [
      "/home/miki/.cache/pypoetry/virtualenvs/net-flow-opt-nxkwTGQf-py3.10/lib/python3.10/site-packages/scipy/optimize/_hessian_update_strategy.py:182: UserWarning: delta_grad == 0.0. Check if the approximated function is linear. If the function is linear better results can be obtained by defining the Hessian as zero instead of using quasi-Newton approximations.\n",
      "  warn('delta_grad == 0.0. Check if the approximated '\n"
     ]
    },
    {
     "name": "stdout",
     "output_type": "stream",
     "text": [
      "    36 |     5400 |     25 |  0.000000E+00 |  0.000000E+00 |  0.0030205690 |             f\n",
      "    37 |     5550 |     25 |  0.000000E+00 |  0.000000E+00 |  0.0000696026 |             f\n",
      "    38 |     5700 |     25 |  0.000000E+00 |  0.000000E+00 |  0.0009060693 |             f\n",
      "    39 |     5850 |     27 |  0.000000E+00 |  0.000000E+00 |  0.0041676437 |             f\n",
      "    40 |     6000 |     26 |  0.000000E+00 |  0.000000E+00 |  0.0003995687 |             f\n",
      "    41 |     6150 |     25 |  0.000000E+00 |  0.000000E+00 |  0.0012466559 |             f\n",
      "    42 |     6300 |     26 |  0.000000E+00 |  0.000000E+00 |  0.0039372947 |             f\n",
      "    43 |     6450 |     26 |  0.000000E+00 |  0.000000E+00 |  0.0015447383 |             f\n",
      "    44 |     6600 |     27 |  0.000000E+00 |  0.000000E+00 |  0.0014875258 |             f\n",
      "    45 |     6750 |     27 |  0.000000E+00 |  0.000000E+00 |  0.0026746066 |             f\n",
      "    46 |     6900 |     28 |  0.000000E+00 |  0.000000E+00 |  7.213706E-11 |             f\n",
      "    47 |     7050 |     28 |  0.000000E+00 |  0.000000E+00 |  7.213706E-11 |             f\n",
      "    48 |     7200 |     28 |  0.000000E+00 |  0.000000E+00 |  3.034436E-09 |             f\n",
      "    49 |     7350 |     28 |  0.000000E+00 |  0.000000E+00 |  3.034436E-09 |             f\n",
      "    50 |     7500 |     27 |  0.000000E+00 |  0.000000E+00 |  3.561218E-09 |             f\n"
     ]
    }
   ],
   "source": [
    "res = minimize(\n",
    "    problem=problem,\n",
    "    algorithm=algorithm,\n",
    "    termination=termination,\n",
    "    seed=seed,\n",
    "    verbose=True,\n",
    ")"
   ]
  },
  {
   "cell_type": "code",
   "execution_count": 5,
   "metadata": {},
   "outputs": [
    {
     "data": {
      "text/plain": [
       "<pymoo.visualization.scatter.Scatter at 0x7ff49857d060>"
      ]
     },
     "execution_count": 5,
     "metadata": {},
     "output_type": "execute_result"
    },
    {
     "data": {
      "image/png": "[encoded data removed]",
      "text/plain": [
       "<Figure size 800x600 with 1 Axes>"
      ]
     },
     "metadata": {},
     "output_type": "display_data"
    }
   ],
   "source": [
    "F = res.opt.get(\"F\")\n",
    "plot = Scatter(\n",
    "    title=\"Continuous model Pareto front\",\n",
    "    labels=['IC', 'FL']\n",
    ")\n",
    "plot.add(F)\n",
    "plot.show()"
   ]
  }
 ],
 "metadata": {
  "kernelspec": {
   "display_name": "net-flow-opt-nxkwTGQf-py3.10",
   "language": "python",
   "name": "python3"
  },
  "language_info": {
   "codemirror_mode": {
    "name": "ipython",
    "version": 3
   },
   "file_extension": ".py",
   "mimetype": "text/x-python",
   "name": "python",
   "nbconvert_exporter": "python",
   "pygments_lexer": "ipython3",
   "version": "3.10.12"
  },
  "orig_nbformat": 4
 },
 "nbformat": 4,
 "nbformat_minor": 2
}
