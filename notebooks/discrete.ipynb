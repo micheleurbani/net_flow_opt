{
 "cells": [
  {
   "cell_type": "code",
   "execution_count": 1,
   "metadata": {},
   "outputs": [],
   "source": [
    "import os\n",
    "import sys\n",
    "module_path = os.path.abspath(os.path.join('..'))\n",
    "if module_path not in sys.path:\n",
    "    sys.path.append(module_path)\n",
    "import dill\n",
    "import numpy as np\n",
    "import pandas as pd\n",
    "import matplotlib.pyplot as plt\n",
    "\n",
    "from pymoo.algorithms.moo.nsga2 import NSGA2\n",
    "from pymoo.optimize import minimize\n",
    "from pymoo.operators.crossover.sbx import SBX\n",
    "from pymoo.operators.crossover.ox import OrderCrossover\n",
    "from pymoo.operators.mutation.pm import PM\n",
    "from pymoo.operators.repair.rounding import RoundingRepair\n",
    "from pymoo.operators.sampling.rnd import IntegerRandomSampling\n",
    "from pymoo.visualization.scatter import Scatter\n",
    "\n",
    "from net_flow_opt.utils import components, structure, activities_duration\n",
    "from net_flow_opt.system import System\n",
    "from net_flow_opt.scheduler import  Plan, Activity\n",
    "from net_flow_opt.discrete_model import DiscreteModel\n",
    "from net_flow_opt.callbacks import TrackPerformance\n",
    "from net_flow_opt.sampling import GroupingStructureSampling\n"
   ]
  },
  {
   "cell_type": "markdown",
   "metadata": {},
   "source": [
    "Main parameters of the experiment are declared here."
   ]
  },
  {
   "cell_type": "code",
   "execution_count": 2,
   "metadata": {},
   "outputs": [],
   "source": [
    "pop_size = 150\n",
    "termination = ('n_gen', 250)\n",
    "seed = 1124\n",
    "eps = 1e-3"
   ]
  },
  {
   "cell_type": "markdown",
   "metadata": {},
   "source": [
    "The cells below repeat the experiment with a different number of resources."
   ]
  },
  {
   "cell_type": "code",
   "execution_count": 3,
   "metadata": {},
   "outputs": [],
   "source": [
    "def experiment(resources):\n",
    "\n",
    "    system = System(structure, resources, components)\n",
    "\n",
    "    dates = np.array([c.x_star for c in components])\n",
    "\n",
    "    original_activities = [\n",
    "        Activity(component, date, duration)\n",
    "        for component, date, duration in zip(system.components, dates, activities_duration)\n",
    "    ]\n",
    "\n",
    "    original_plan = Plan(\n",
    "        system=system,\n",
    "        activities=original_activities\n",
    "    )\n",
    "\n",
    "    problem = DiscreteModel(\n",
    "        system=system,\n",
    "        original_plan=original_plan,\n",
    "        resources=resources,\n",
    "    )\n",
    "\n",
    "    T = 200\n",
    "\n",
    "    d_t = np.vstack([- dates, T - dates])\n",
    "\n",
    "    i = np.argmax(np.abs(d_t), axis=0)\n",
    "\n",
    "    d_t = d_t[i, np.arange(d_t.shape[1])]\n",
    "\n",
    "    ref_point = np.array([\n",
    "        system.regular_flow * T,\n",
    "        np.sum([a.h(d_t[i] + eps) for i, a in enumerate(original_activities)])\n",
    "    ])\n",
    "\n",
    "    algorithm = NSGA2(\n",
    "        sampling=IntegerRandomSampling(),\n",
    "        crossover=SBX(prob=1.0, eta=3.0, vtype=float, repair=RoundingRepair()),\n",
    "        mutation=PM(prob=1.0, eta=3.0, vtype=float, repair=RoundingRepair()),\n",
    "        pop_size=pop_size,\n",
    "        eliminate_duplicates=True,\n",
    "        callback=TrackPerformance(ref_point=ref_point)\n",
    "    )\n",
    "\n",
    "    res = minimize(\n",
    "        problem=problem,\n",
    "        algorithm=algorithm,\n",
    "        termination=termination,\n",
    "        seed=seed,\n",
    "        verbose=True,\n",
    "    )\n",
    "\n",
    "    return res"
   ]
  },
  {
   "cell_type": "code",
   "execution_count": 4,
   "metadata": {},
   "outputs": [
    {
     "name": "stdout",
     "output_type": "stream",
     "text": [
      "==========================================================================================\n",
      "n_gen  |  n_eval  | n_nds  |     cv_min    |     cv_avg    |      eps      |   indicator  \n",
      "==========================================================================================\n",
      "     1 |      150 |      4 |  0.000000E+00 |  1.2000000000 |             - |             -\n"
     ]
    },
    {
     "name": "stderr",
     "output_type": "stream",
     "text": [
      "/home/michele/.cache/pypoetry/virtualenvs/net-flow-opt-va4GqYfJ-py3.10/lib/python3.10/site-packages/scipy/optimize/_hessian_update_strategy.py:182: UserWarning: delta_grad == 0.0. Check if the approximated function is linear. If the function is linear better results can be obtained by defining the Hessian as zero instead of using quasi-Newton approximations.\n",
      "  warn('delta_grad == 0.0. Check if the approximated '\n"
     ]
    },
    {
     "name": "stdout",
     "output_type": "stream",
     "text": [
      "     2 |      300 |      7 |  0.000000E+00 |  0.2533333333 |  0.1745970930 |         ideal\n",
      "     3 |      450 |     10 |  0.000000E+00 |  0.000000E+00 |  0.0445698169 |             f\n",
      "     4 |      600 |     11 |  0.000000E+00 |  0.000000E+00 |  0.0491263715 |         ideal\n",
      "     5 |      750 |      9 |  0.000000E+00 |  0.000000E+00 |  0.0659803667 |         ideal\n",
      "     6 |      900 |     13 |  0.000000E+00 |  0.000000E+00 |  0.0502714443 |             f\n",
      "     7 |     1050 |     10 |  0.000000E+00 |  0.000000E+00 |  0.0848126710 |         ideal\n",
      "     8 |     1200 |      9 |  0.000000E+00 |  0.000000E+00 |  0.1655792419 |         ideal\n"
     ]
    },
    {
     "name": "stderr",
     "output_type": "stream",
     "text": [
      "/home/michele/.cache/pypoetry/virtualenvs/net-flow-opt-va4GqYfJ-py3.10/lib/python3.10/site-packages/scipy/optimize/_hessian_update_strategy.py:182: UserWarning: delta_grad == 0.0. Check if the approximated function is linear. If the function is linear better results can be obtained by defining the Hessian as zero instead of using quasi-Newton approximations.\n",
      "  warn('delta_grad == 0.0. Check if the approximated '\n",
      "/home/michele/.cache/pypoetry/virtualenvs/net-flow-opt-va4GqYfJ-py3.10/lib/python3.10/site-packages/scipy/optimize/_hessian_update_strategy.py:182: UserWarning: delta_grad == 0.0. Check if the approximated function is linear. If the function is linear better results can be obtained by defining the Hessian as zero instead of using quasi-Newton approximations.\n",
      "  warn('delta_grad == 0.0. Check if the approximated '\n"
     ]
    },
    {
     "name": "stdout",
     "output_type": "stream",
     "text": [
      "     9 |     1350 |     12 |  0.000000E+00 |  0.000000E+00 |  0.0241124645 |             f\n",
      "    10 |     1500 |     12 |  0.000000E+00 |  0.000000E+00 |  0.0635677817 |         nadir\n",
      "    11 |     1650 |     10 |  0.000000E+00 |  0.000000E+00 |  0.1336904407 |         ideal\n",
      "    12 |     1800 |     13 |  0.000000E+00 |  0.000000E+00 |  0.0158494782 |             f\n",
      "    13 |     1950 |      5 |  0.000000E+00 |  0.000000E+00 |  0.0144314857 |         ideal\n"
     ]
    },
    {
     "name": "stderr",
     "output_type": "stream",
     "text": [
      "/home/michele/.cache/pypoetry/virtualenvs/net-flow-opt-va4GqYfJ-py3.10/lib/python3.10/site-packages/scipy/optimize/_hessian_update_strategy.py:182: UserWarning: delta_grad == 0.0. Check if the approximated function is linear. If the function is linear better results can be obtained by defining the Hessian as zero instead of using quasi-Newton approximations.\n",
      "  warn('delta_grad == 0.0. Check if the approximated '\n"
     ]
    },
    {
     "name": "stdout",
     "output_type": "stream",
     "text": [
      "    14 |     2100 |      8 |  0.000000E+00 |  0.000000E+00 |  0.0112172848 |         ideal\n",
      "    15 |     2250 |      9 |  0.000000E+00 |  0.000000E+00 |  0.0158579216 |             f\n",
      "    16 |     2400 |      9 |  0.000000E+00 |  0.000000E+00 |  4.069634E-10 |             f\n",
      "    17 |     2550 |     13 |  0.000000E+00 |  0.000000E+00 |  0.0314316181 |             f\n",
      "    18 |     2700 |     14 |  0.000000E+00 |  0.000000E+00 |  0.0088801282 |             f\n",
      "    19 |     2850 |     16 |  0.000000E+00 |  0.000000E+00 |  0.0123005043 |             f\n",
      "    20 |     3000 |     15 |  0.000000E+00 |  0.000000E+00 |  0.0127841841 |             f\n",
      "    21 |     3150 |     12 |  0.000000E+00 |  0.000000E+00 |  0.2733382145 |         nadir\n",
      "    22 |     3300 |     13 |  0.000000E+00 |  0.000000E+00 |  0.0018014923 |             f\n",
      "    23 |     3450 |     15 |  0.000000E+00 |  0.000000E+00 |  0.3302629159 |         nadir\n",
      "    24 |     3600 |     13 |  0.000000E+00 |  0.000000E+00 |  0.0265500911 |             f\n",
      "    25 |     3750 |     13 |  0.000000E+00 |  0.000000E+00 |  0.000000E+00 |             f\n",
      "    26 |     3900 |     13 |  0.000000E+00 |  0.000000E+00 |  0.000000E+00 |             f\n",
      "    27 |     4050 |     10 |  0.000000E+00 |  0.000000E+00 |  0.0047457742 |             f\n",
      "    28 |     4200 |     10 |  0.000000E+00 |  0.000000E+00 |  7.104241E-12 |             f\n"
     ]
    },
    {
     "name": "stderr",
     "output_type": "stream",
     "text": [
      "/home/michele/.cache/pypoetry/virtualenvs/net-flow-opt-va4GqYfJ-py3.10/lib/python3.10/site-packages/scipy/optimize/_hessian_update_strategy.py:182: UserWarning: delta_grad == 0.0. Check if the approximated function is linear. If the function is linear better results can be obtained by defining the Hessian as zero instead of using quasi-Newton approximations.\n",
      "  warn('delta_grad == 0.0. Check if the approximated '\n"
     ]
    },
    {
     "name": "stdout",
     "output_type": "stream",
     "text": [
      "    29 |     4350 |     11 |  0.000000E+00 |  0.000000E+00 |  6.664494E-10 |             f\n",
      "    30 |     4500 |     11 |  0.000000E+00 |  0.000000E+00 |  6.664494E-10 |             f\n",
      "    31 |     4650 |     11 |  0.000000E+00 |  0.000000E+00 |  0.0020943777 |             f\n",
      "    32 |     4800 |     11 |  0.000000E+00 |  0.000000E+00 |  0.0020943777 |             f\n",
      "    33 |     4950 |     12 |  0.000000E+00 |  0.000000E+00 |  0.0038707009 |             f\n"
     ]
    },
    {
     "name": "stderr",
     "output_type": "stream",
     "text": [
      "/home/michele/.cache/pypoetry/virtualenvs/net-flow-opt-va4GqYfJ-py3.10/lib/python3.10/site-packages/scipy/optimize/_hessian_update_strategy.py:182: UserWarning: delta_grad == 0.0. Check if the approximated function is linear. If the function is linear better results can be obtained by defining the Hessian as zero instead of using quasi-Newton approximations.\n",
      "  warn('delta_grad == 0.0. Check if the approximated '\n",
      "/home/michele/.cache/pypoetry/virtualenvs/net-flow-opt-va4GqYfJ-py3.10/lib/python3.10/site-packages/scipy/optimize/_hessian_update_strategy.py:182: UserWarning: delta_grad == 0.0. Check if the approximated function is linear. If the function is linear better results can be obtained by defining the Hessian as zero instead of using quasi-Newton approximations.\n",
      "  warn('delta_grad == 0.0. Check if the approximated '\n"
     ]
    },
    {
     "name": "stdout",
     "output_type": "stream",
     "text": [
      "    34 |     5100 |     12 |  0.000000E+00 |  0.000000E+00 |  1.876954E-10 |             f\n",
      "    35 |     5250 |     12 |  0.000000E+00 |  0.000000E+00 |  1.876954E-10 |             f\n",
      "    36 |     5400 |     14 |  0.000000E+00 |  0.000000E+00 |  7.849260E-10 |             f\n",
      "    37 |     5550 |     14 |  0.000000E+00 |  0.000000E+00 |  7.849260E-10 |             f\n",
      "    38 |     5700 |     14 |  0.000000E+00 |  0.000000E+00 |  7.849260E-10 |             f\n",
      "    39 |     5850 |     14 |  0.000000E+00 |  0.000000E+00 |  0.0065547153 |             f\n",
      "    40 |     6000 |     15 |  0.000000E+00 |  0.000000E+00 |  8.957283E-12 |             f\n"
     ]
    },
    {
     "name": "stderr",
     "output_type": "stream",
     "text": [
      "/home/michele/.cache/pypoetry/virtualenvs/net-flow-opt-va4GqYfJ-py3.10/lib/python3.10/site-packages/scipy/optimize/_hessian_update_strategy.py:182: UserWarning: delta_grad == 0.0. Check if the approximated function is linear. If the function is linear better results can be obtained by defining the Hessian as zero instead of using quasi-Newton approximations.\n",
      "  warn('delta_grad == 0.0. Check if the approximated '\n"
     ]
    },
    {
     "name": "stdout",
     "output_type": "stream",
     "text": [
      "    41 |     6150 |     16 |  0.000000E+00 |  0.000000E+00 |  0.0122117327 |             f\n",
      "    42 |     6300 |     17 |  0.000000E+00 |  0.000000E+00 |  0.0012885369 |             f\n",
      "    43 |     6450 |     14 |  0.000000E+00 |  0.000000E+00 |  0.0034015063 |             f\n",
      "    44 |     6600 |     16 |  0.000000E+00 |  0.000000E+00 |  0.0075314260 |             f\n",
      "    45 |     6750 |     18 |  0.000000E+00 |  0.000000E+00 |  7.101044E-11 |             f\n"
     ]
    },
    {
     "name": "stderr",
     "output_type": "stream",
     "text": [
      "/home/michele/.cache/pypoetry/virtualenvs/net-flow-opt-va4GqYfJ-py3.10/lib/python3.10/site-packages/scipy/optimize/_hessian_update_strategy.py:182: UserWarning: delta_grad == 0.0. Check if the approximated function is linear. If the function is linear better results can be obtained by defining the Hessian as zero instead of using quasi-Newton approximations.\n",
      "  warn('delta_grad == 0.0. Check if the approximated '\n"
     ]
    },
    {
     "name": "stdout",
     "output_type": "stream",
     "text": [
      "    46 |     6900 |     17 |  0.000000E+00 |  0.000000E+00 |  7.827842E-11 |             f\n",
      "    47 |     7050 |     17 |  0.000000E+00 |  0.000000E+00 |  7.827842E-11 |             f\n",
      "    48 |     7200 |     17 |  0.000000E+00 |  0.000000E+00 |  8.603870E-11 |             f\n",
      "    49 |     7350 |     17 |  0.000000E+00 |  0.000000E+00 |  8.603870E-11 |             f\n",
      "    50 |     7500 |     17 |  0.000000E+00 |  0.000000E+00 |  1.209364E-10 |             f\n"
     ]
    },
    {
     "name": "stderr",
     "output_type": "stream",
     "text": [
      "/home/michele/.cache/pypoetry/virtualenvs/net-flow-opt-va4GqYfJ-py3.10/lib/python3.10/site-packages/scipy/optimize/_hessian_update_strategy.py:182: UserWarning: delta_grad == 0.0. Check if the approximated function is linear. If the function is linear better results can be obtained by defining the Hessian as zero instead of using quasi-Newton approximations.\n",
      "  warn('delta_grad == 0.0. Check if the approximated '\n"
     ]
    },
    {
     "name": "stdout",
     "output_type": "stream",
     "text": [
      "    51 |     7650 |     17 |  0.000000E+00 |  0.000000E+00 |  8.487625E-11 |             f\n"
     ]
    },
    {
     "name": "stderr",
     "output_type": "stream",
     "text": [
      "/home/michele/.cache/pypoetry/virtualenvs/net-flow-opt-va4GqYfJ-py3.10/lib/python3.10/site-packages/scipy/optimize/_hessian_update_strategy.py:182: UserWarning: delta_grad == 0.0. Check if the approximated function is linear. If the function is linear better results can be obtained by defining the Hessian as zero instead of using quasi-Newton approximations.\n",
      "  warn('delta_grad == 0.0. Check if the approximated '\n"
     ]
    },
    {
     "name": "stdout",
     "output_type": "stream",
     "text": [
      "    52 |     7800 |     17 |  0.000000E+00 |  0.000000E+00 |  8.531666E-11 |             f\n",
      "    53 |     7950 |     17 |  0.000000E+00 |  0.000000E+00 |  8.531666E-11 |             f\n",
      "    54 |     8100 |     17 |  0.000000E+00 |  0.000000E+00 |  8.531666E-11 |             f\n",
      "    55 |     8250 |     17 |  0.000000E+00 |  0.000000E+00 |  0.0049346119 |             f\n",
      "    56 |     8400 |     17 |  0.000000E+00 |  0.000000E+00 |  0.0047158821 |             f\n",
      "    57 |     8550 |     17 |  0.000000E+00 |  0.000000E+00 |  0.000000E+00 |             f\n",
      "    58 |     8700 |     17 |  0.000000E+00 |  0.000000E+00 |  0.000000E+00 |             f\n",
      "    59 |     8850 |     17 |  0.000000E+00 |  0.000000E+00 |  0.000000E+00 |             f\n",
      "    60 |     9000 |     17 |  0.000000E+00 |  0.000000E+00 |  0.000000E+00 |             f\n"
     ]
    },
    {
     "name": "stderr",
     "output_type": "stream",
     "text": [
      "/home/michele/.cache/pypoetry/virtualenvs/net-flow-opt-va4GqYfJ-py3.10/lib/python3.10/site-packages/scipy/optimize/_hessian_update_strategy.py:182: UserWarning: delta_grad == 0.0. Check if the approximated function is linear. If the function is linear better results can be obtained by defining the Hessian as zero instead of using quasi-Newton approximations.\n",
      "  warn('delta_grad == 0.0. Check if the approximated '\n"
     ]
    },
    {
     "name": "stdout",
     "output_type": "stream",
     "text": [
      "    61 |     9150 |     17 |  0.000000E+00 |  0.000000E+00 |  0.000000E+00 |             f\n"
     ]
    },
    {
     "name": "stderr",
     "output_type": "stream",
     "text": [
      "/home/michele/.cache/pypoetry/virtualenvs/net-flow-opt-va4GqYfJ-py3.10/lib/python3.10/site-packages/scipy/optimize/_hessian_update_strategy.py:182: UserWarning: delta_grad == 0.0. Check if the approximated function is linear. If the function is linear better results can be obtained by defining the Hessian as zero instead of using quasi-Newton approximations.\n",
      "  warn('delta_grad == 0.0. Check if the approximated '\n"
     ]
    },
    {
     "name": "stdout",
     "output_type": "stream",
     "text": [
      "    62 |     9300 |     18 |  0.000000E+00 |  0.000000E+00 |  0.0126985623 |             f\n",
      "    63 |     9450 |     18 |  0.000000E+00 |  0.000000E+00 |  0.000000E+00 |             f\n"
     ]
    },
    {
     "name": "stderr",
     "output_type": "stream",
     "text": [
      "/home/michele/.cache/pypoetry/virtualenvs/net-flow-opt-va4GqYfJ-py3.10/lib/python3.10/site-packages/scipy/optimize/_hessian_update_strategy.py:182: UserWarning: delta_grad == 0.0. Check if the approximated function is linear. If the function is linear better results can be obtained by defining the Hessian as zero instead of using quasi-Newton approximations.\n",
      "  warn('delta_grad == 0.0. Check if the approximated '\n"
     ]
    },
    {
     "name": "stdout",
     "output_type": "stream",
     "text": [
      "    64 |     9600 |     18 |  0.000000E+00 |  0.000000E+00 |  7.606850E-12 |             f\n"
     ]
    },
    {
     "name": "stderr",
     "output_type": "stream",
     "text": [
      "/home/michele/.cache/pypoetry/virtualenvs/net-flow-opt-va4GqYfJ-py3.10/lib/python3.10/site-packages/scipy/optimize/_hessian_update_strategy.py:182: UserWarning: delta_grad == 0.0. Check if the approximated function is linear. If the function is linear better results can be obtained by defining the Hessian as zero instead of using quasi-Newton approximations.\n",
      "  warn('delta_grad == 0.0. Check if the approximated '\n",
      "/home/michele/.cache/pypoetry/virtualenvs/net-flow-opt-va4GqYfJ-py3.10/lib/python3.10/site-packages/scipy/optimize/_hessian_update_strategy.py:182: UserWarning: delta_grad == 0.0. Check if the approximated function is linear. If the function is linear better results can be obtained by defining the Hessian as zero instead of using quasi-Newton approximations.\n",
      "  warn('delta_grad == 0.0. Check if the approximated '\n"
     ]
    },
    {
     "name": "stdout",
     "output_type": "stream",
     "text": [
      "    65 |     9750 |     18 |  0.000000E+00 |  0.000000E+00 |  0.0063894538 |             f\n",
      "    66 |     9900 |     18 |  0.000000E+00 |  0.000000E+00 |  0.000000E+00 |             f\n"
     ]
    },
    {
     "name": "stderr",
     "output_type": "stream",
     "text": [
      "/home/michele/.cache/pypoetry/virtualenvs/net-flow-opt-va4GqYfJ-py3.10/lib/python3.10/site-packages/scipy/optimize/_hessian_update_strategy.py:182: UserWarning: delta_grad == 0.0. Check if the approximated function is linear. If the function is linear better results can be obtained by defining the Hessian as zero instead of using quasi-Newton approximations.\n",
      "  warn('delta_grad == 0.0. Check if the approximated '\n",
      "/home/michele/.cache/pypoetry/virtualenvs/net-flow-opt-va4GqYfJ-py3.10/lib/python3.10/site-packages/scipy/optimize/_hessian_update_strategy.py:182: UserWarning: delta_grad == 0.0. Check if the approximated function is linear. If the function is linear better results can be obtained by defining the Hessian as zero instead of using quasi-Newton approximations.\n",
      "  warn('delta_grad == 0.0. Check if the approximated '\n"
     ]
    },
    {
     "name": "stdout",
     "output_type": "stream",
     "text": [
      "    67 |    10050 |     18 |  0.000000E+00 |  0.000000E+00 |  1.758238E-10 |             f\n",
      "    68 |    10200 |     18 |  0.000000E+00 |  0.000000E+00 |  1.758238E-10 |             f\n"
     ]
    },
    {
     "name": "stderr",
     "output_type": "stream",
     "text": [
      "/home/michele/.cache/pypoetry/virtualenvs/net-flow-opt-va4GqYfJ-py3.10/lib/python3.10/site-packages/scipy/optimize/_hessian_update_strategy.py:182: UserWarning: delta_grad == 0.0. Check if the approximated function is linear. If the function is linear better results can be obtained by defining the Hessian as zero instead of using quasi-Newton approximations.\n",
      "  warn('delta_grad == 0.0. Check if the approximated '\n",
      "/home/michele/.cache/pypoetry/virtualenvs/net-flow-opt-va4GqYfJ-py3.10/lib/python3.10/site-packages/scipy/optimize/_hessian_update_strategy.py:182: UserWarning: delta_grad == 0.0. Check if the approximated function is linear. If the function is linear better results can be obtained by defining the Hessian as zero instead of using quasi-Newton approximations.\n",
      "  warn('delta_grad == 0.0. Check if the approximated '\n"
     ]
    },
    {
     "name": "stdout",
     "output_type": "stream",
     "text": [
      "    69 |    10350 |     20 |  0.000000E+00 |  0.000000E+00 |  0.0036009400 |             f\n",
      "    70 |    10500 |     20 |  0.000000E+00 |  0.000000E+00 |  0.000000E+00 |             f\n",
      "    71 |    10650 |     20 |  0.000000E+00 |  0.000000E+00 |  0.000000E+00 |             f\n",
      "    72 |    10800 |     21 |  0.000000E+00 |  0.000000E+00 |  4.533749E-11 |             f\n",
      "    73 |    10950 |     21 |  0.000000E+00 |  0.000000E+00 |  0.0027628831 |             f\n"
     ]
    },
    {
     "name": "stderr",
     "output_type": "stream",
     "text": [
      "/home/michele/.cache/pypoetry/virtualenvs/net-flow-opt-va4GqYfJ-py3.10/lib/python3.10/site-packages/scipy/optimize/_hessian_update_strategy.py:182: UserWarning: delta_grad == 0.0. Check if the approximated function is linear. If the function is linear better results can be obtained by defining the Hessian as zero instead of using quasi-Newton approximations.\n",
      "  warn('delta_grad == 0.0. Check if the approximated '\n"
     ]
    },
    {
     "name": "stdout",
     "output_type": "stream",
     "text": [
      "    74 |    11100 |     21 |  0.000000E+00 |  0.000000E+00 |  0.0011942796 |             f\n"
     ]
    },
    {
     "name": "stderr",
     "output_type": "stream",
     "text": [
      "/home/michele/.cache/pypoetry/virtualenvs/net-flow-opt-va4GqYfJ-py3.10/lib/python3.10/site-packages/scipy/optimize/_hessian_update_strategy.py:182: UserWarning: delta_grad == 0.0. Check if the approximated function is linear. If the function is linear better results can be obtained by defining the Hessian as zero instead of using quasi-Newton approximations.\n",
      "  warn('delta_grad == 0.0. Check if the approximated '\n"
     ]
    },
    {
     "name": "stdout",
     "output_type": "stream",
     "text": [
      "    75 |    11250 |     22 |  0.000000E+00 |  0.000000E+00 |  0.0068789200 |             f\n",
      "    76 |    11400 |     22 |  0.000000E+00 |  0.000000E+00 |  2.059604E-10 |             f\n",
      "    77 |    11550 |     22 |  0.000000E+00 |  0.000000E+00 |  2.059604E-10 |             f\n"
     ]
    },
    {
     "name": "stderr",
     "output_type": "stream",
     "text": [
      "/home/michele/.cache/pypoetry/virtualenvs/net-flow-opt-va4GqYfJ-py3.10/lib/python3.10/site-packages/scipy/optimize/_hessian_update_strategy.py:182: UserWarning: delta_grad == 0.0. Check if the approximated function is linear. If the function is linear better results can be obtained by defining the Hessian as zero instead of using quasi-Newton approximations.\n",
      "  warn('delta_grad == 0.0. Check if the approximated '\n"
     ]
    },
    {
     "name": "stdout",
     "output_type": "stream",
     "text": [
      "    78 |    11700 |     22 |  0.000000E+00 |  0.000000E+00 |  2.059604E-10 |             f\n",
      "    79 |    11850 |     22 |  0.000000E+00 |  0.000000E+00 |  2.059604E-10 |             f\n",
      "    80 |    12000 |     22 |  0.000000E+00 |  0.000000E+00 |  2.059604E-10 |             f\n"
     ]
    },
    {
     "name": "stderr",
     "output_type": "stream",
     "text": [
      "/home/michele/.cache/pypoetry/virtualenvs/net-flow-opt-va4GqYfJ-py3.10/lib/python3.10/site-packages/scipy/optimize/_hessian_update_strategy.py:182: UserWarning: delta_grad == 0.0. Check if the approximated function is linear. If the function is linear better results can be obtained by defining the Hessian as zero instead of using quasi-Newton approximations.\n",
      "  warn('delta_grad == 0.0. Check if the approximated '\n"
     ]
    },
    {
     "name": "stdout",
     "output_type": "stream",
     "text": [
      "    81 |    12150 |     22 |  0.000000E+00 |  0.000000E+00 |  2.059604E-10 |             f\n",
      "    82 |    12300 |     23 |  0.000000E+00 |  0.000000E+00 |  0.0020930764 |             f\n"
     ]
    },
    {
     "name": "stderr",
     "output_type": "stream",
     "text": [
      "/home/michele/.cache/pypoetry/virtualenvs/net-flow-opt-va4GqYfJ-py3.10/lib/python3.10/site-packages/scipy/optimize/_hessian_update_strategy.py:182: UserWarning: delta_grad == 0.0. Check if the approximated function is linear. If the function is linear better results can be obtained by defining the Hessian as zero instead of using quasi-Newton approximations.\n",
      "  warn('delta_grad == 0.0. Check if the approximated '\n"
     ]
    },
    {
     "name": "stdout",
     "output_type": "stream",
     "text": [
      "    83 |    12450 |     23 |  0.000000E+00 |  0.000000E+00 |  0.0020930764 |             f\n",
      "    84 |    12600 |     22 |  0.000000E+00 |  0.000000E+00 |  0.4250742655 |         nadir\n"
     ]
    },
    {
     "name": "stderr",
     "output_type": "stream",
     "text": [
      "/home/michele/.cache/pypoetry/virtualenvs/net-flow-opt-va4GqYfJ-py3.10/lib/python3.10/site-packages/scipy/optimize/_hessian_update_strategy.py:182: UserWarning: delta_grad == 0.0. Check if the approximated function is linear. If the function is linear better results can be obtained by defining the Hessian as zero instead of using quasi-Newton approximations.\n",
      "  warn('delta_grad == 0.0. Check if the approximated '\n"
     ]
    },
    {
     "name": "stdout",
     "output_type": "stream",
     "text": [
      "    85 |    12750 |     22 |  0.000000E+00 |  0.000000E+00 |  0.000000E+00 |             f\n",
      "    86 |    12900 |     22 |  0.000000E+00 |  0.000000E+00 |  0.000000E+00 |             f\n"
     ]
    },
    {
     "name": "stderr",
     "output_type": "stream",
     "text": [
      "/home/michele/.cache/pypoetry/virtualenvs/net-flow-opt-va4GqYfJ-py3.10/lib/python3.10/site-packages/scipy/optimize/_hessian_update_strategy.py:182: UserWarning: delta_grad == 0.0. Check if the approximated function is linear. If the function is linear better results can be obtained by defining the Hessian as zero instead of using quasi-Newton approximations.\n",
      "  warn('delta_grad == 0.0. Check if the approximated '\n"
     ]
    },
    {
     "name": "stdout",
     "output_type": "stream",
     "text": [
      "    87 |    13050 |     22 |  0.000000E+00 |  0.000000E+00 |  0.000000E+00 |             f\n",
      "    88 |    13200 |     23 |  0.000000E+00 |  0.000000E+00 |  0.0453712455 |         ideal\n",
      "    89 |    13350 |     23 |  0.000000E+00 |  0.000000E+00 |  0.000000E+00 |             f\n",
      "    90 |    13500 |     23 |  0.000000E+00 |  0.000000E+00 |  0.000000E+00 |             f\n",
      "    91 |    13650 |     24 |  0.000000E+00 |  0.000000E+00 |  8.790812E-12 |             f\n",
      "    92 |    13800 |     24 |  0.000000E+00 |  0.000000E+00 |  1.107169E-11 |             f\n",
      "    93 |    13950 |     24 |  0.000000E+00 |  0.000000E+00 |  1.107169E-11 |             f\n"
     ]
    },
    {
     "name": "stderr",
     "output_type": "stream",
     "text": [
      "/home/michele/.cache/pypoetry/virtualenvs/net-flow-opt-va4GqYfJ-py3.10/lib/python3.10/site-packages/scipy/optimize/_hessian_update_strategy.py:182: UserWarning: delta_grad == 0.0. Check if the approximated function is linear. If the function is linear better results can be obtained by defining the Hessian as zero instead of using quasi-Newton approximations.\n",
      "  warn('delta_grad == 0.0. Check if the approximated '\n"
     ]
    },
    {
     "name": "stdout",
     "output_type": "stream",
     "text": [
      "    94 |    14100 |     25 |  0.000000E+00 |  0.000000E+00 |  5.618463E-11 |             f\n"
     ]
    },
    {
     "name": "stderr",
     "output_type": "stream",
     "text": [
      "/home/michele/.cache/pypoetry/virtualenvs/net-flow-opt-va4GqYfJ-py3.10/lib/python3.10/site-packages/scipy/optimize/_hessian_update_strategy.py:182: UserWarning: delta_grad == 0.0. Check if the approximated function is linear. If the function is linear better results can be obtained by defining the Hessian as zero instead of using quasi-Newton approximations.\n",
      "  warn('delta_grad == 0.0. Check if the approximated '\n"
     ]
    },
    {
     "name": "stdout",
     "output_type": "stream",
     "text": [
      "    95 |    14250 |     23 |  0.000000E+00 |  0.000000E+00 |  8.308337E-11 |             f\n",
      "    96 |    14400 |     24 |  0.000000E+00 |  0.000000E+00 |  0.0014000298 |             f\n",
      "    97 |    14550 |     24 |  0.000000E+00 |  0.000000E+00 |  0.0014000298 |             f\n",
      "    98 |    14700 |     24 |  0.000000E+00 |  0.000000E+00 |  0.0014000298 |             f\n",
      "    99 |    14850 |     23 |  0.000000E+00 |  0.000000E+00 |  0.0014609006 |             f\n"
     ]
    },
    {
     "name": "stderr",
     "output_type": "stream",
     "text": [
      "/home/michele/.cache/pypoetry/virtualenvs/net-flow-opt-va4GqYfJ-py3.10/lib/python3.10/site-packages/scipy/optimize/_hessian_update_strategy.py:182: UserWarning: delta_grad == 0.0. Check if the approximated function is linear. If the function is linear better results can be obtained by defining the Hessian as zero instead of using quasi-Newton approximations.\n",
      "  warn('delta_grad == 0.0. Check if the approximated '\n"
     ]
    },
    {
     "name": "stdout",
     "output_type": "stream",
     "text": [
      "   100 |    15000 |     23 |  0.000000E+00 |  0.000000E+00 |  0.2216897379 |         nadir\n",
      "   101 |    15150 |     23 |  0.000000E+00 |  0.000000E+00 |  0.000000E+00 |             f\n",
      "   102 |    15300 |     25 |  0.000000E+00 |  0.000000E+00 |  0.0012454391 |             f\n"
     ]
    },
    {
     "name": "stderr",
     "output_type": "stream",
     "text": [
      "/home/michele/.cache/pypoetry/virtualenvs/net-flow-opt-va4GqYfJ-py3.10/lib/python3.10/site-packages/scipy/optimize/_hessian_update_strategy.py:182: UserWarning: delta_grad == 0.0. Check if the approximated function is linear. If the function is linear better results can be obtained by defining the Hessian as zero instead of using quasi-Newton approximations.\n",
      "  warn('delta_grad == 0.0. Check if the approximated '\n"
     ]
    },
    {
     "name": "stdout",
     "output_type": "stream",
     "text": [
      "   103 |    15450 |     25 |  0.000000E+00 |  0.000000E+00 |  0.0012674759 |             f\n",
      "   104 |    15600 |     25 |  0.000000E+00 |  0.000000E+00 |  0.0012674759 |             f\n"
     ]
    },
    {
     "name": "stderr",
     "output_type": "stream",
     "text": [
      "/home/michele/.cache/pypoetry/virtualenvs/net-flow-opt-va4GqYfJ-py3.10/lib/python3.10/site-packages/scipy/optimize/_hessian_update_strategy.py:182: UserWarning: delta_grad == 0.0. Check if the approximated function is linear. If the function is linear better results can be obtained by defining the Hessian as zero instead of using quasi-Newton approximations.\n",
      "  warn('delta_grad == 0.0. Check if the approximated '\n"
     ]
    },
    {
     "name": "stdout",
     "output_type": "stream",
     "text": [
      "   105 |    15750 |     25 |  0.000000E+00 |  0.000000E+00 |  0.0012674761 |             f\n"
     ]
    },
    {
     "name": "stderr",
     "output_type": "stream",
     "text": [
      "/home/michele/.cache/pypoetry/virtualenvs/net-flow-opt-va4GqYfJ-py3.10/lib/python3.10/site-packages/scipy/optimize/_hessian_update_strategy.py:182: UserWarning: delta_grad == 0.0. Check if the approximated function is linear. If the function is linear better results can be obtained by defining the Hessian as zero instead of using quasi-Newton approximations.\n",
      "  warn('delta_grad == 0.0. Check if the approximated '\n"
     ]
    },
    {
     "name": "stdout",
     "output_type": "stream",
     "text": [
      "   106 |    15900 |     25 |  0.000000E+00 |  0.000000E+00 |  0.0012674761 |             f\n",
      "   107 |    16050 |     25 |  0.000000E+00 |  0.000000E+00 |  0.0012674761 |             f\n",
      "   108 |    16200 |     26 |  0.000000E+00 |  0.000000E+00 |  0.0032612361 |             f\n"
     ]
    },
    {
     "name": "stderr",
     "output_type": "stream",
     "text": [
      "/home/michele/.cache/pypoetry/virtualenvs/net-flow-opt-va4GqYfJ-py3.10/lib/python3.10/site-packages/scipy/optimize/_hessian_update_strategy.py:182: UserWarning: delta_grad == 0.0. Check if the approximated function is linear. If the function is linear better results can be obtained by defining the Hessian as zero instead of using quasi-Newton approximations.\n",
      "  warn('delta_grad == 0.0. Check if the approximated '\n",
      "/home/michele/.cache/pypoetry/virtualenvs/net-flow-opt-va4GqYfJ-py3.10/lib/python3.10/site-packages/scipy/optimize/_hessian_update_strategy.py:182: UserWarning: delta_grad == 0.0. Check if the approximated function is linear. If the function is linear better results can be obtained by defining the Hessian as zero instead of using quasi-Newton approximations.\n",
      "  warn('delta_grad == 0.0. Check if the approximated '\n"
     ]
    },
    {
     "name": "stdout",
     "output_type": "stream",
     "text": [
      "   109 |    16350 |     27 |  0.000000E+00 |  0.000000E+00 |  0.0005532971 |             f\n",
      "   110 |    16500 |     27 |  0.000000E+00 |  0.000000E+00 |  0.0005532971 |             f\n"
     ]
    },
    {
     "name": "stderr",
     "output_type": "stream",
     "text": [
      "/home/michele/.cache/pypoetry/virtualenvs/net-flow-opt-va4GqYfJ-py3.10/lib/python3.10/site-packages/scipy/optimize/_hessian_update_strategy.py:182: UserWarning: delta_grad == 0.0. Check if the approximated function is linear. If the function is linear better results can be obtained by defining the Hessian as zero instead of using quasi-Newton approximations.\n",
      "  warn('delta_grad == 0.0. Check if the approximated '\n"
     ]
    },
    {
     "name": "stdout",
     "output_type": "stream",
     "text": [
      "   111 |    16650 |     27 |  0.000000E+00 |  0.000000E+00 |  0.0005532971 |             f\n"
     ]
    },
    {
     "name": "stderr",
     "output_type": "stream",
     "text": [
      "/home/michele/.cache/pypoetry/virtualenvs/net-flow-opt-va4GqYfJ-py3.10/lib/python3.10/site-packages/scipy/optimize/_hessian_update_strategy.py:182: UserWarning: delta_grad == 0.0. Check if the approximated function is linear. If the function is linear better results can be obtained by defining the Hessian as zero instead of using quasi-Newton approximations.\n",
      "  warn('delta_grad == 0.0. Check if the approximated '\n"
     ]
    },
    {
     "name": "stdout",
     "output_type": "stream",
     "text": [
      "   112 |    16800 |     27 |  0.000000E+00 |  0.000000E+00 |  0.0005532974 |             f\n"
     ]
    },
    {
     "name": "stderr",
     "output_type": "stream",
     "text": [
      "/home/michele/.cache/pypoetry/virtualenvs/net-flow-opt-va4GqYfJ-py3.10/lib/python3.10/site-packages/scipy/optimize/_hessian_update_strategy.py:182: UserWarning: delta_grad == 0.0. Check if the approximated function is linear. If the function is linear better results can be obtained by defining the Hessian as zero instead of using quasi-Newton approximations.\n",
      "  warn('delta_grad == 0.0. Check if the approximated '\n"
     ]
    },
    {
     "name": "stdout",
     "output_type": "stream",
     "text": [
      "   113 |    16950 |     27 |  0.000000E+00 |  0.000000E+00 |  0.0005532974 |             f\n",
      "   114 |    17100 |     27 |  0.000000E+00 |  0.000000E+00 |  0.0005532975 |             f\n",
      "   115 |    17250 |     27 |  0.000000E+00 |  0.000000E+00 |  0.0005532975 |             f\n",
      "   116 |    17400 |     27 |  0.000000E+00 |  0.000000E+00 |  0.0005532975 |             f\n"
     ]
    },
    {
     "name": "stderr",
     "output_type": "stream",
     "text": [
      "/home/michele/.cache/pypoetry/virtualenvs/net-flow-opt-va4GqYfJ-py3.10/lib/python3.10/site-packages/scipy/optimize/_hessian_update_strategy.py:182: UserWarning: delta_grad == 0.0. Check if the approximated function is linear. If the function is linear better results can be obtained by defining the Hessian as zero instead of using quasi-Newton approximations.\n",
      "  warn('delta_grad == 0.0. Check if the approximated '\n"
     ]
    },
    {
     "name": "stdout",
     "output_type": "stream",
     "text": [
      "   117 |    17550 |     27 |  0.000000E+00 |  0.000000E+00 |  0.0005532975 |             f\n",
      "   118 |    17700 |     27 |  0.000000E+00 |  0.000000E+00 |  0.0005532975 |             f\n"
     ]
    },
    {
     "name": "stderr",
     "output_type": "stream",
     "text": [
      "/home/michele/.cache/pypoetry/virtualenvs/net-flow-opt-va4GqYfJ-py3.10/lib/python3.10/site-packages/scipy/optimize/_hessian_update_strategy.py:182: UserWarning: delta_grad == 0.0. Check if the approximated function is linear. If the function is linear better results can be obtained by defining the Hessian as zero instead of using quasi-Newton approximations.\n",
      "  warn('delta_grad == 0.0. Check if the approximated '\n"
     ]
    },
    {
     "name": "stdout",
     "output_type": "stream",
     "text": [
      "   119 |    17850 |     28 |  0.000000E+00 |  0.000000E+00 |  0.0005335389 |             f\n",
      "   120 |    18000 |     28 |  0.000000E+00 |  0.000000E+00 |  0.0005335389 |             f\n",
      "   121 |    18150 |     28 |  0.000000E+00 |  0.000000E+00 |  0.0005335389 |             f\n"
     ]
    },
    {
     "name": "stderr",
     "output_type": "stream",
     "text": [
      "/home/michele/.cache/pypoetry/virtualenvs/net-flow-opt-va4GqYfJ-py3.10/lib/python3.10/site-packages/scipy/optimize/_hessian_update_strategy.py:182: UserWarning: delta_grad == 0.0. Check if the approximated function is linear. If the function is linear better results can be obtained by defining the Hessian as zero instead of using quasi-Newton approximations.\n",
      "  warn('delta_grad == 0.0. Check if the approximated '\n"
     ]
    },
    {
     "name": "stdout",
     "output_type": "stream",
     "text": [
      "   122 |    18300 |     28 |  0.000000E+00 |  0.000000E+00 |  0.0005335389 |             f\n",
      "   123 |    18450 |     28 |  0.000000E+00 |  0.000000E+00 |  0.0005335393 |             f\n"
     ]
    },
    {
     "name": "stderr",
     "output_type": "stream",
     "text": [
      "/home/michele/.cache/pypoetry/virtualenvs/net-flow-opt-va4GqYfJ-py3.10/lib/python3.10/site-packages/scipy/optimize/_hessian_update_strategy.py:182: UserWarning: delta_grad == 0.0. Check if the approximated function is linear. If the function is linear better results can be obtained by defining the Hessian as zero instead of using quasi-Newton approximations.\n",
      "  warn('delta_grad == 0.0. Check if the approximated '\n"
     ]
    },
    {
     "name": "stdout",
     "output_type": "stream",
     "text": [
      "   124 |    18600 |     27 |  0.000000E+00 |  0.000000E+00 |  0.0005533003 |             f\n",
      "   125 |    18750 |     27 |  0.000000E+00 |  0.000000E+00 |  0.0005533003 |             f\n",
      "   126 |    18900 |     27 |  0.000000E+00 |  0.000000E+00 |  0.0005533003 |             f\n",
      "   127 |    19050 |     27 |  0.000000E+00 |  0.000000E+00 |  0.0005533003 |             f\n",
      "   128 |    19200 |     27 |  0.000000E+00 |  0.000000E+00 |  0.0005533005 |             f\n"
     ]
    },
    {
     "name": "stderr",
     "output_type": "stream",
     "text": [
      "/home/michele/.cache/pypoetry/virtualenvs/net-flow-opt-va4GqYfJ-py3.10/lib/python3.10/site-packages/scipy/optimize/_hessian_update_strategy.py:182: UserWarning: delta_grad == 0.0. Check if the approximated function is linear. If the function is linear better results can be obtained by defining the Hessian as zero instead of using quasi-Newton approximations.\n",
      "  warn('delta_grad == 0.0. Check if the approximated '\n"
     ]
    },
    {
     "name": "stdout",
     "output_type": "stream",
     "text": [
      "   129 |    19350 |     27 |  0.000000E+00 |  0.000000E+00 |  0.0005533003 |             f\n",
      "   130 |    19500 |     27 |  0.000000E+00 |  0.000000E+00 |  0.0005533003 |             f\n",
      "   131 |    19650 |     28 |  0.000000E+00 |  0.000000E+00 |  0.0005335397 |             f\n"
     ]
    },
    {
     "name": "stderr",
     "output_type": "stream",
     "text": [
      "/home/michele/.cache/pypoetry/virtualenvs/net-flow-opt-va4GqYfJ-py3.10/lib/python3.10/site-packages/scipy/optimize/_hessian_update_strategy.py:182: UserWarning: delta_grad == 0.0. Check if the approximated function is linear. If the function is linear better results can be obtained by defining the Hessian as zero instead of using quasi-Newton approximations.\n",
      "  warn('delta_grad == 0.0. Check if the approximated '\n"
     ]
    },
    {
     "name": "stdout",
     "output_type": "stream",
     "text": [
      "   132 |    19800 |     28 |  0.000000E+00 |  0.000000E+00 |  0.0005335427 |             f\n",
      "   133 |    19950 |     28 |  0.000000E+00 |  0.000000E+00 |  0.0005335429 |             f\n",
      "   134 |    20100 |     28 |  0.000000E+00 |  0.000000E+00 |  0.0005335429 |             f\n",
      "   135 |    20250 |     28 |  0.000000E+00 |  0.000000E+00 |  0.0005335429 |             f\n",
      "   136 |    20400 |     28 |  0.000000E+00 |  0.000000E+00 |  0.0005335429 |             f\n",
      "   137 |    20550 |     28 |  0.000000E+00 |  0.000000E+00 |  0.0005335429 |             f\n",
      "   138 |    20700 |     28 |  0.000000E+00 |  0.000000E+00 |  0.0005335429 |             f\n",
      "   139 |    20850 |     28 |  0.000000E+00 |  0.000000E+00 |  0.0005335429 |             f\n",
      "   140 |    21000 |     28 |  0.000000E+00 |  0.000000E+00 |  0.0005335429 |             f\n",
      "   141 |    21150 |     28 |  0.000000E+00 |  0.000000E+00 |  0.0005335429 |             f\n",
      "   142 |    21300 |     28 |  0.000000E+00 |  0.000000E+00 |  0.0005335429 |             f\n"
     ]
    },
    {
     "name": "stderr",
     "output_type": "stream",
     "text": [
      "/home/michele/.cache/pypoetry/virtualenvs/net-flow-opt-va4GqYfJ-py3.10/lib/python3.10/site-packages/scipy/optimize/_hessian_update_strategy.py:182: UserWarning: delta_grad == 0.0. Check if the approximated function is linear. If the function is linear better results can be obtained by defining the Hessian as zero instead of using quasi-Newton approximations.\n",
      "  warn('delta_grad == 0.0. Check if the approximated '\n",
      "/home/michele/.cache/pypoetry/virtualenvs/net-flow-opt-va4GqYfJ-py3.10/lib/python3.10/site-packages/scipy/optimize/_hessian_update_strategy.py:182: UserWarning: delta_grad == 0.0. Check if the approximated function is linear. If the function is linear better results can be obtained by defining the Hessian as zero instead of using quasi-Newton approximations.\n",
      "  warn('delta_grad == 0.0. Check if the approximated '\n"
     ]
    },
    {
     "name": "stdout",
     "output_type": "stream",
     "text": [
      "   143 |    21450 |     26 |  0.000000E+00 |  0.000000E+00 |  0.0007218931 |             f\n",
      "   144 |    21600 |     26 |  0.000000E+00 |  0.000000E+00 |  0.0007218931 |             f\n",
      "   145 |    21750 |     27 |  0.000000E+00 |  0.000000E+00 |  0.0006951566 |             f\n",
      "   146 |    21900 |     27 |  0.000000E+00 |  0.000000E+00 |  0.0006951566 |             f\n"
     ]
    },
    {
     "name": "stderr",
     "output_type": "stream",
     "text": [
      "/home/michele/.cache/pypoetry/virtualenvs/net-flow-opt-va4GqYfJ-py3.10/lib/python3.10/site-packages/scipy/optimize/_hessian_update_strategy.py:182: UserWarning: delta_grad == 0.0. Check if the approximated function is linear. If the function is linear better results can be obtained by defining the Hessian as zero instead of using quasi-Newton approximations.\n",
      "  warn('delta_grad == 0.0. Check if the approximated '\n"
     ]
    },
    {
     "name": "stdout",
     "output_type": "stream",
     "text": [
      "   147 |    22050 |     27 |  0.000000E+00 |  0.000000E+00 |  0.0006951566 |             f\n"
     ]
    },
    {
     "name": "stderr",
     "output_type": "stream",
     "text": [
      "/home/michele/.cache/pypoetry/virtualenvs/net-flow-opt-va4GqYfJ-py3.10/lib/python3.10/site-packages/scipy/optimize/_hessian_update_strategy.py:182: UserWarning: delta_grad == 0.0. Check if the approximated function is linear. If the function is linear better results can be obtained by defining the Hessian as zero instead of using quasi-Newton approximations.\n",
      "  warn('delta_grad == 0.0. Check if the approximated '\n",
      "/home/michele/.cache/pypoetry/virtualenvs/net-flow-opt-va4GqYfJ-py3.10/lib/python3.10/site-packages/scipy/optimize/_hessian_update_strategy.py:182: UserWarning: delta_grad == 0.0. Check if the approximated function is linear. If the function is linear better results can be obtained by defining the Hessian as zero instead of using quasi-Newton approximations.\n",
      "  warn('delta_grad == 0.0. Check if the approximated '\n"
     ]
    },
    {
     "name": "stdout",
     "output_type": "stream",
     "text": [
      "   148 |    22200 |     27 |  0.000000E+00 |  0.000000E+00 |  0.0006951566 |             f\n",
      "   149 |    22350 |     27 |  0.000000E+00 |  0.000000E+00 |  0.0006951566 |             f\n",
      "   150 |    22500 |     27 |  0.000000E+00 |  0.000000E+00 |  0.0006951566 |             f\n"
     ]
    },
    {
     "name": "stderr",
     "output_type": "stream",
     "text": [
      "/home/michele/.cache/pypoetry/virtualenvs/net-flow-opt-va4GqYfJ-py3.10/lib/python3.10/site-packages/scipy/optimize/_hessian_update_strategy.py:182: UserWarning: delta_grad == 0.0. Check if the approximated function is linear. If the function is linear better results can be obtained by defining the Hessian as zero instead of using quasi-Newton approximations.\n",
      "  warn('delta_grad == 0.0. Check if the approximated '\n"
     ]
    },
    {
     "name": "stdout",
     "output_type": "stream",
     "text": [
      "   151 |    22650 |     26 |  0.000000E+00 |  0.000000E+00 |  0.0031939975 |             f\n",
      "   152 |    22800 |     26 |  0.000000E+00 |  0.000000E+00 |  0.000000E+00 |             f\n",
      "   153 |    22950 |     26 |  0.000000E+00 |  0.000000E+00 |  0.000000E+00 |             f\n",
      "   154 |    23100 |     26 |  0.000000E+00 |  0.000000E+00 |  0.000000E+00 |             f\n"
     ]
    },
    {
     "name": "stderr",
     "output_type": "stream",
     "text": [
      "/home/michele/.cache/pypoetry/virtualenvs/net-flow-opt-va4GqYfJ-py3.10/lib/python3.10/site-packages/scipy/optimize/_hessian_update_strategy.py:182: UserWarning: delta_grad == 0.0. Check if the approximated function is linear. If the function is linear better results can be obtained by defining the Hessian as zero instead of using quasi-Newton approximations.\n",
      "  warn('delta_grad == 0.0. Check if the approximated '\n"
     ]
    },
    {
     "name": "stdout",
     "output_type": "stream",
     "text": [
      "   155 |    23250 |     26 |  0.000000E+00 |  0.000000E+00 |  0.000000E+00 |             f\n",
      "   156 |    23400 |     26 |  0.000000E+00 |  0.000000E+00 |  0.000000E+00 |             f\n",
      "   157 |    23550 |     26 |  0.000000E+00 |  0.000000E+00 |  0.000000E+00 |             f\n"
     ]
    },
    {
     "name": "stderr",
     "output_type": "stream",
     "text": [
      "/home/michele/.cache/pypoetry/virtualenvs/net-flow-opt-va4GqYfJ-py3.10/lib/python3.10/site-packages/scipy/optimize/_hessian_update_strategy.py:182: UserWarning: delta_grad == 0.0. Check if the approximated function is linear. If the function is linear better results can be obtained by defining the Hessian as zero instead of using quasi-Newton approximations.\n",
      "  warn('delta_grad == 0.0. Check if the approximated '\n"
     ]
    },
    {
     "name": "stdout",
     "output_type": "stream",
     "text": [
      "   158 |    23700 |     26 |  0.000000E+00 |  0.000000E+00 |  0.000000E+00 |             f\n",
      "   159 |    23850 |     26 |  0.000000E+00 |  0.000000E+00 |  0.000000E+00 |             f\n",
      "   160 |    24000 |     26 |  0.000000E+00 |  0.000000E+00 |  0.000000E+00 |             f\n",
      "   161 |    24150 |     26 |  0.000000E+00 |  0.000000E+00 |  0.000000E+00 |             f\n"
     ]
    },
    {
     "name": "stderr",
     "output_type": "stream",
     "text": [
      "/home/michele/.cache/pypoetry/virtualenvs/net-flow-opt-va4GqYfJ-py3.10/lib/python3.10/site-packages/scipy/optimize/_hessian_update_strategy.py:182: UserWarning: delta_grad == 0.0. Check if the approximated function is linear. If the function is linear better results can be obtained by defining the Hessian as zero instead of using quasi-Newton approximations.\n",
      "  warn('delta_grad == 0.0. Check if the approximated '\n"
     ]
    },
    {
     "name": "stdout",
     "output_type": "stream",
     "text": [
      "   162 |    24300 |     26 |  0.000000E+00 |  0.000000E+00 |  0.000000E+00 |             f\n",
      "   163 |    24450 |     27 |  0.000000E+00 |  0.000000E+00 |  2.044016E-09 |             f\n",
      "   164 |    24600 |     27 |  0.000000E+00 |  0.000000E+00 |  2.044016E-09 |             f\n",
      "   165 |    24750 |     27 |  0.000000E+00 |  0.000000E+00 |  2.050945E-09 |             f\n"
     ]
    },
    {
     "name": "stderr",
     "output_type": "stream",
     "text": [
      "/home/michele/.cache/pypoetry/virtualenvs/net-flow-opt-va4GqYfJ-py3.10/lib/python3.10/site-packages/scipy/optimize/_hessian_update_strategy.py:182: UserWarning: delta_grad == 0.0. Check if the approximated function is linear. If the function is linear better results can be obtained by defining the Hessian as zero instead of using quasi-Newton approximations.\n",
      "  warn('delta_grad == 0.0. Check if the approximated '\n",
      "/home/michele/.cache/pypoetry/virtualenvs/net-flow-opt-va4GqYfJ-py3.10/lib/python3.10/site-packages/scipy/optimize/_hessian_update_strategy.py:182: UserWarning: delta_grad == 0.0. Check if the approximated function is linear. If the function is linear better results can be obtained by defining the Hessian as zero instead of using quasi-Newton approximations.\n",
      "  warn('delta_grad == 0.0. Check if the approximated '\n"
     ]
    },
    {
     "name": "stdout",
     "output_type": "stream",
     "text": [
      "   166 |    24900 |     27 |  0.000000E+00 |  0.000000E+00 |  2.050945E-09 |             f\n",
      "   167 |    25050 |     27 |  0.000000E+00 |  0.000000E+00 |  2.050945E-09 |             f\n",
      "   168 |    25200 |     27 |  0.000000E+00 |  0.000000E+00 |  2.050945E-09 |             f\n",
      "   169 |    25350 |     27 |  0.000000E+00 |  0.000000E+00 |  2.050945E-09 |             f\n",
      "   170 |    25500 |     27 |  0.000000E+00 |  0.000000E+00 |  2.050945E-09 |             f\n",
      "   171 |    25650 |     27 |  0.000000E+00 |  0.000000E+00 |  2.050945E-09 |             f\n",
      "   172 |    25800 |     27 |  0.000000E+00 |  0.000000E+00 |  2.050945E-09 |             f\n",
      "   173 |    25950 |     27 |  0.000000E+00 |  0.000000E+00 |  2.050945E-09 |             f\n",
      "   174 |    26100 |     28 |  0.000000E+00 |  0.000000E+00 |  0.0019911847 |             f\n",
      "   175 |    26250 |     28 |  0.000000E+00 |  0.000000E+00 |  0.0019911847 |             f\n"
     ]
    },
    {
     "name": "stderr",
     "output_type": "stream",
     "text": [
      "/home/michele/.cache/pypoetry/virtualenvs/net-flow-opt-va4GqYfJ-py3.10/lib/python3.10/site-packages/scipy/optimize/_hessian_update_strategy.py:182: UserWarning: delta_grad == 0.0. Check if the approximated function is linear. If the function is linear better results can be obtained by defining the Hessian as zero instead of using quasi-Newton approximations.\n",
      "  warn('delta_grad == 0.0. Check if the approximated '\n"
     ]
    },
    {
     "name": "stdout",
     "output_type": "stream",
     "text": [
      "   176 |    26400 |     28 |  0.000000E+00 |  0.000000E+00 |  0.0019911847 |             f\n"
     ]
    },
    {
     "name": "stderr",
     "output_type": "stream",
     "text": [
      "/home/michele/.cache/pypoetry/virtualenvs/net-flow-opt-va4GqYfJ-py3.10/lib/python3.10/site-packages/scipy/optimize/_hessian_update_strategy.py:182: UserWarning: delta_grad == 0.0. Check if the approximated function is linear. If the function is linear better results can be obtained by defining the Hessian as zero instead of using quasi-Newton approximations.\n",
      "  warn('delta_grad == 0.0. Check if the approximated '\n"
     ]
    },
    {
     "name": "stdout",
     "output_type": "stream",
     "text": [
      "   177 |    26550 |     28 |  0.000000E+00 |  0.000000E+00 |  0.0019911847 |             f\n",
      "   178 |    26700 |     27 |  0.000000E+00 |  0.000000E+00 |  0.1179109180 |         nadir\n"
     ]
    },
    {
     "name": "stderr",
     "output_type": "stream",
     "text": [
      "/home/michele/.cache/pypoetry/virtualenvs/net-flow-opt-va4GqYfJ-py3.10/lib/python3.10/site-packages/scipy/optimize/_hessian_update_strategy.py:182: UserWarning: delta_grad == 0.0. Check if the approximated function is linear. If the function is linear better results can be obtained by defining the Hessian as zero instead of using quasi-Newton approximations.\n",
      "  warn('delta_grad == 0.0. Check if the approximated '\n"
     ]
    },
    {
     "name": "stdout",
     "output_type": "stream",
     "text": [
      "   179 |    26850 |     27 |  0.000000E+00 |  0.000000E+00 |  0.000000E+00 |             f\n",
      "   180 |    27000 |     27 |  0.000000E+00 |  0.000000E+00 |  0.000000E+00 |             f\n",
      "   181 |    27150 |     27 |  0.000000E+00 |  0.000000E+00 |  0.000000E+00 |             f\n",
      "   182 |    27300 |     27 |  0.000000E+00 |  0.000000E+00 |  0.000000E+00 |             f\n",
      "   183 |    27450 |     27 |  0.000000E+00 |  0.000000E+00 |  0.000000E+00 |             f\n"
     ]
    },
    {
     "name": "stderr",
     "output_type": "stream",
     "text": [
      "/home/michele/.cache/pypoetry/virtualenvs/net-flow-opt-va4GqYfJ-py3.10/lib/python3.10/site-packages/scipy/optimize/_hessian_update_strategy.py:182: UserWarning: delta_grad == 0.0. Check if the approximated function is linear. If the function is linear better results can be obtained by defining the Hessian as zero instead of using quasi-Newton approximations.\n",
      "  warn('delta_grad == 0.0. Check if the approximated '\n"
     ]
    },
    {
     "name": "stdout",
     "output_type": "stream",
     "text": [
      "   184 |    27600 |     27 |  0.000000E+00 |  0.000000E+00 |  0.000000E+00 |             f\n",
      "   185 |    27750 |     28 |  0.000000E+00 |  0.000000E+00 |  0.0006374585 |             f\n",
      "   186 |    27900 |     28 |  0.000000E+00 |  0.000000E+00 |  0.0006374585 |             f\n",
      "   187 |    28050 |     28 |  0.000000E+00 |  0.000000E+00 |  0.0006374585 |             f\n",
      "   188 |    28200 |     28 |  0.000000E+00 |  0.000000E+00 |  0.0006374585 |             f\n"
     ]
    },
    {
     "name": "stderr",
     "output_type": "stream",
     "text": [
      "/home/michele/.cache/pypoetry/virtualenvs/net-flow-opt-va4GqYfJ-py3.10/lib/python3.10/site-packages/scipy/optimize/_hessian_update_strategy.py:182: UserWarning: delta_grad == 0.0. Check if the approximated function is linear. If the function is linear better results can be obtained by defining the Hessian as zero instead of using quasi-Newton approximations.\n",
      "  warn('delta_grad == 0.0. Check if the approximated '\n"
     ]
    },
    {
     "name": "stdout",
     "output_type": "stream",
     "text": [
      "   189 |    28350 |     28 |  0.000000E+00 |  0.000000E+00 |  0.0006374585 |             f\n"
     ]
    },
    {
     "name": "stderr",
     "output_type": "stream",
     "text": [
      "/home/michele/.cache/pypoetry/virtualenvs/net-flow-opt-va4GqYfJ-py3.10/lib/python3.10/site-packages/scipy/optimize/_hessian_update_strategy.py:182: UserWarning: delta_grad == 0.0. Check if the approximated function is linear. If the function is linear better results can be obtained by defining the Hessian as zero instead of using quasi-Newton approximations.\n",
      "  warn('delta_grad == 0.0. Check if the approximated '\n",
      "/home/michele/.cache/pypoetry/virtualenvs/net-flow-opt-va4GqYfJ-py3.10/lib/python3.10/site-packages/scipy/optimize/_hessian_update_strategy.py:182: UserWarning: delta_grad == 0.0. Check if the approximated function is linear. If the function is linear better results can be obtained by defining the Hessian as zero instead of using quasi-Newton approximations.\n",
      "  warn('delta_grad == 0.0. Check if the approximated '\n"
     ]
    },
    {
     "name": "stdout",
     "output_type": "stream",
     "text": [
      "   190 |    28500 |     28 |  0.000000E+00 |  0.000000E+00 |  0.0006374585 |             f\n",
      "   191 |    28650 |     28 |  0.000000E+00 |  0.000000E+00 |  0.0006374585 |             f\n",
      "   192 |    28800 |     28 |  0.000000E+00 |  0.000000E+00 |  0.0006374585 |             f\n",
      "   193 |    28950 |     28 |  0.000000E+00 |  0.000000E+00 |  0.0006374585 |             f\n",
      "   194 |    29100 |     28 |  0.000000E+00 |  0.000000E+00 |  0.0006374585 |             f\n"
     ]
    },
    {
     "name": "stderr",
     "output_type": "stream",
     "text": [
      "/home/michele/.cache/pypoetry/virtualenvs/net-flow-opt-va4GqYfJ-py3.10/lib/python3.10/site-packages/scipy/optimize/_hessian_update_strategy.py:182: UserWarning: delta_grad == 0.0. Check if the approximated function is linear. If the function is linear better results can be obtained by defining the Hessian as zero instead of using quasi-Newton approximations.\n",
      "  warn('delta_grad == 0.0. Check if the approximated '\n"
     ]
    },
    {
     "name": "stdout",
     "output_type": "stream",
     "text": [
      "   195 |    29250 |     29 |  0.000000E+00 |  0.000000E+00 |  0.0006154772 |             f\n"
     ]
    },
    {
     "name": "stderr",
     "output_type": "stream",
     "text": [
      "/home/michele/.cache/pypoetry/virtualenvs/net-flow-opt-va4GqYfJ-py3.10/lib/python3.10/site-packages/scipy/optimize/_hessian_update_strategy.py:182: UserWarning: delta_grad == 0.0. Check if the approximated function is linear. If the function is linear better results can be obtained by defining the Hessian as zero instead of using quasi-Newton approximations.\n",
      "  warn('delta_grad == 0.0. Check if the approximated '\n"
     ]
    },
    {
     "name": "stdout",
     "output_type": "stream",
     "text": [
      "   196 |    29400 |     29 |  0.000000E+00 |  0.000000E+00 |  0.0006154772 |             f\n",
      "   197 |    29550 |     29 |  0.000000E+00 |  0.000000E+00 |  0.0006154772 |             f\n",
      "   198 |    29700 |     29 |  0.000000E+00 |  0.000000E+00 |  0.0006154772 |             f\n",
      "   199 |    29850 |     29 |  0.000000E+00 |  0.000000E+00 |  0.0006154772 |             f\n"
     ]
    },
    {
     "name": "stderr",
     "output_type": "stream",
     "text": [
      "/home/michele/.cache/pypoetry/virtualenvs/net-flow-opt-va4GqYfJ-py3.10/lib/python3.10/site-packages/scipy/optimize/_hessian_update_strategy.py:182: UserWarning: delta_grad == 0.0. Check if the approximated function is linear. If the function is linear better results can be obtained by defining the Hessian as zero instead of using quasi-Newton approximations.\n",
      "  warn('delta_grad == 0.0. Check if the approximated '\n"
     ]
    },
    {
     "name": "stdout",
     "output_type": "stream",
     "text": [
      "   200 |    30000 |     29 |  0.000000E+00 |  0.000000E+00 |  0.0006154772 |             f\n",
      "   201 |    30150 |     29 |  0.000000E+00 |  0.000000E+00 |  0.0006154772 |             f\n"
     ]
    },
    {
     "name": "stderr",
     "output_type": "stream",
     "text": [
      "/home/michele/.cache/pypoetry/virtualenvs/net-flow-opt-va4GqYfJ-py3.10/lib/python3.10/site-packages/scipy/optimize/_hessian_update_strategy.py:182: UserWarning: delta_grad == 0.0. Check if the approximated function is linear. If the function is linear better results can be obtained by defining the Hessian as zero instead of using quasi-Newton approximations.\n",
      "  warn('delta_grad == 0.0. Check if the approximated '\n"
     ]
    },
    {
     "name": "stdout",
     "output_type": "stream",
     "text": [
      "   202 |    30300 |     29 |  0.000000E+00 |  0.000000E+00 |  0.0006154772 |             f\n"
     ]
    },
    {
     "name": "stderr",
     "output_type": "stream",
     "text": [
      "/home/michele/.cache/pypoetry/virtualenvs/net-flow-opt-va4GqYfJ-py3.10/lib/python3.10/site-packages/scipy/optimize/_hessian_update_strategy.py:182: UserWarning: delta_grad == 0.0. Check if the approximated function is linear. If the function is linear better results can be obtained by defining the Hessian as zero instead of using quasi-Newton approximations.\n",
      "  warn('delta_grad == 0.0. Check if the approximated '\n",
      "/home/michele/.cache/pypoetry/virtualenvs/net-flow-opt-va4GqYfJ-py3.10/lib/python3.10/site-packages/scipy/optimize/_hessian_update_strategy.py:182: UserWarning: delta_grad == 0.0. Check if the approximated function is linear. If the function is linear better results can be obtained by defining the Hessian as zero instead of using quasi-Newton approximations.\n",
      "  warn('delta_grad == 0.0. Check if the approximated '\n"
     ]
    },
    {
     "name": "stdout",
     "output_type": "stream",
     "text": [
      "   203 |    30450 |     29 |  0.000000E+00 |  0.000000E+00 |  0.0006154773 |             f\n",
      "   204 |    30600 |     29 |  0.000000E+00 |  0.000000E+00 |  0.0006154773 |             f\n"
     ]
    },
    {
     "name": "stderr",
     "output_type": "stream",
     "text": [
      "/home/michele/.cache/pypoetry/virtualenvs/net-flow-opt-va4GqYfJ-py3.10/lib/python3.10/site-packages/scipy/optimize/_hessian_update_strategy.py:182: UserWarning: delta_grad == 0.0. Check if the approximated function is linear. If the function is linear better results can be obtained by defining the Hessian as zero instead of using quasi-Newton approximations.\n",
      "  warn('delta_grad == 0.0. Check if the approximated '\n",
      "/home/michele/.cache/pypoetry/virtualenvs/net-flow-opt-va4GqYfJ-py3.10/lib/python3.10/site-packages/scipy/optimize/_hessian_update_strategy.py:182: UserWarning: delta_grad == 0.0. Check if the approximated function is linear. If the function is linear better results can be obtained by defining the Hessian as zero instead of using quasi-Newton approximations.\n",
      "  warn('delta_grad == 0.0. Check if the approximated '\n",
      "/home/michele/.cache/pypoetry/virtualenvs/net-flow-opt-va4GqYfJ-py3.10/lib/python3.10/site-packages/scipy/optimize/_hessian_update_strategy.py:182: UserWarning: delta_grad == 0.0. Check if the approximated function is linear. If the function is linear better results can be obtained by defining the Hessian as zero instead of using quasi-Newton approximations.\n",
      "  warn('delta_grad == 0.0. Check if the approximated '\n"
     ]
    },
    {
     "name": "stdout",
     "output_type": "stream",
     "text": [
      "   205 |    30750 |     29 |  0.000000E+00 |  0.000000E+00 |  0.0006154773 |             f\n",
      "   206 |    30900 |     28 |  0.000000E+00 |  0.000000E+00 |  0.0006374587 |             f\n",
      "   207 |    31050 |     28 |  0.000000E+00 |  0.000000E+00 |  0.0006374587 |             f\n"
     ]
    },
    {
     "name": "stderr",
     "output_type": "stream",
     "text": [
      "/home/michele/.cache/pypoetry/virtualenvs/net-flow-opt-va4GqYfJ-py3.10/lib/python3.10/site-packages/scipy/optimize/_hessian_update_strategy.py:182: UserWarning: delta_grad == 0.0. Check if the approximated function is linear. If the function is linear better results can be obtained by defining the Hessian as zero instead of using quasi-Newton approximations.\n",
      "  warn('delta_grad == 0.0. Check if the approximated '\n"
     ]
    },
    {
     "name": "stdout",
     "output_type": "stream",
     "text": [
      "   208 |    31200 |     28 |  0.000000E+00 |  0.000000E+00 |  0.0006374587 |             f\n",
      "   209 |    31350 |     28 |  0.000000E+00 |  0.000000E+00 |  0.0006374587 |             f\n",
      "   210 |    31500 |     28 |  0.000000E+00 |  0.000000E+00 |  0.0006374587 |             f\n",
      "   211 |    31650 |     28 |  0.000000E+00 |  0.000000E+00 |  0.0006374587 |             f\n",
      "   212 |    31800 |     28 |  0.000000E+00 |  0.000000E+00 |  0.0006374587 |             f\n",
      "   213 |    31950 |     28 |  0.000000E+00 |  0.000000E+00 |  0.0006374587 |             f\n",
      "   214 |    32100 |     28 |  0.000000E+00 |  0.000000E+00 |  0.0006374587 |             f\n",
      "   215 |    32250 |     28 |  0.000000E+00 |  0.000000E+00 |  0.0006374587 |             f\n"
     ]
    },
    {
     "name": "stderr",
     "output_type": "stream",
     "text": [
      "/home/michele/.cache/pypoetry/virtualenvs/net-flow-opt-va4GqYfJ-py3.10/lib/python3.10/site-packages/scipy/optimize/_hessian_update_strategy.py:182: UserWarning: delta_grad == 0.0. Check if the approximated function is linear. If the function is linear better results can be obtained by defining the Hessian as zero instead of using quasi-Newton approximations.\n",
      "  warn('delta_grad == 0.0. Check if the approximated '\n"
     ]
    },
    {
     "name": "stdout",
     "output_type": "stream",
     "text": [
      "   216 |    32400 |     28 |  0.000000E+00 |  0.000000E+00 |  0.0006374587 |             f\n",
      "   217 |    32550 |     29 |  0.000000E+00 |  0.000000E+00 |  0.0022662212 |             f\n",
      "   218 |    32700 |     29 |  0.000000E+00 |  0.000000E+00 |  0.0022662212 |             f\n",
      "   219 |    32850 |     29 |  0.000000E+00 |  0.000000E+00 |  0.0022662212 |             f\n",
      "   220 |    33000 |     30 |  0.000000E+00 |  0.000000E+00 |  0.0034936452 |             f\n",
      "   221 |    33150 |     30 |  0.000000E+00 |  0.000000E+00 |  0.000000E+00 |             f\n"
     ]
    },
    {
     "name": "stderr",
     "output_type": "stream",
     "text": [
      "/home/michele/.cache/pypoetry/virtualenvs/net-flow-opt-va4GqYfJ-py3.10/lib/python3.10/site-packages/scipy/optimize/_hessian_update_strategy.py:182: UserWarning: delta_grad == 0.0. Check if the approximated function is linear. If the function is linear better results can be obtained by defining the Hessian as zero instead of using quasi-Newton approximations.\n",
      "  warn('delta_grad == 0.0. Check if the approximated '\n"
     ]
    },
    {
     "name": "stdout",
     "output_type": "stream",
     "text": [
      "   222 |    33300 |     30 |  0.000000E+00 |  0.000000E+00 |  0.000000E+00 |             f\n",
      "   223 |    33450 |     30 |  0.000000E+00 |  0.000000E+00 |  0.000000E+00 |             f\n",
      "   224 |    33600 |     30 |  0.000000E+00 |  0.000000E+00 |  0.000000E+00 |             f\n"
     ]
    },
    {
     "name": "stderr",
     "output_type": "stream",
     "text": [
      "/home/michele/.cache/pypoetry/virtualenvs/net-flow-opt-va4GqYfJ-py3.10/lib/python3.10/site-packages/scipy/optimize/_hessian_update_strategy.py:182: UserWarning: delta_grad == 0.0. Check if the approximated function is linear. If the function is linear better results can be obtained by defining the Hessian as zero instead of using quasi-Newton approximations.\n",
      "  warn('delta_grad == 0.0. Check if the approximated '\n"
     ]
    },
    {
     "name": "stdout",
     "output_type": "stream",
     "text": [
      "   225 |    33750 |     30 |  0.000000E+00 |  0.000000E+00 |  0.000000E+00 |             f\n"
     ]
    },
    {
     "name": "stderr",
     "output_type": "stream",
     "text": [
      "/home/michele/.cache/pypoetry/virtualenvs/net-flow-opt-va4GqYfJ-py3.10/lib/python3.10/site-packages/scipy/optimize/_hessian_update_strategy.py:182: UserWarning: delta_grad == 0.0. Check if the approximated function is linear. If the function is linear better results can be obtained by defining the Hessian as zero instead of using quasi-Newton approximations.\n",
      "  warn('delta_grad == 0.0. Check if the approximated '\n",
      "/home/michele/.cache/pypoetry/virtualenvs/net-flow-opt-va4GqYfJ-py3.10/lib/python3.10/site-packages/scipy/optimize/_hessian_update_strategy.py:182: UserWarning: delta_grad == 0.0. Check if the approximated function is linear. If the function is linear better results can be obtained by defining the Hessian as zero instead of using quasi-Newton approximations.\n",
      "  warn('delta_grad == 0.0. Check if the approximated '\n"
     ]
    },
    {
     "name": "stdout",
     "output_type": "stream",
     "text": [
      "   226 |    33900 |     29 |  0.000000E+00 |  0.000000E+00 |  2.613139E-10 |             f\n"
     ]
    },
    {
     "name": "stderr",
     "output_type": "stream",
     "text": [
      "/home/michele/.cache/pypoetry/virtualenvs/net-flow-opt-va4GqYfJ-py3.10/lib/python3.10/site-packages/scipy/optimize/_hessian_update_strategy.py:182: UserWarning: delta_grad == 0.0. Check if the approximated function is linear. If the function is linear better results can be obtained by defining the Hessian as zero instead of using quasi-Newton approximations.\n",
      "  warn('delta_grad == 0.0. Check if the approximated '\n"
     ]
    },
    {
     "name": "stdout",
     "output_type": "stream",
     "text": [
      "   227 |    34050 |     29 |  0.000000E+00 |  0.000000E+00 |  2.613139E-10 |             f\n"
     ]
    },
    {
     "name": "stderr",
     "output_type": "stream",
     "text": [
      "/home/michele/.cache/pypoetry/virtualenvs/net-flow-opt-va4GqYfJ-py3.10/lib/python3.10/site-packages/scipy/optimize/_hessian_update_strategy.py:182: UserWarning: delta_grad == 0.0. Check if the approximated function is linear. If the function is linear better results can be obtained by defining the Hessian as zero instead of using quasi-Newton approximations.\n",
      "  warn('delta_grad == 0.0. Check if the approximated '\n"
     ]
    },
    {
     "name": "stdout",
     "output_type": "stream",
     "text": [
      "   228 |    34200 |     29 |  0.000000E+00 |  0.000000E+00 |  2.613139E-10 |             f\n",
      "   229 |    34350 |     29 |  0.000000E+00 |  0.000000E+00 |  2.613139E-10 |             f\n"
     ]
    },
    {
     "name": "stderr",
     "output_type": "stream",
     "text": [
      "/home/michele/.cache/pypoetry/virtualenvs/net-flow-opt-va4GqYfJ-py3.10/lib/python3.10/site-packages/scipy/optimize/_hessian_update_strategy.py:182: UserWarning: delta_grad == 0.0. Check if the approximated function is linear. If the function is linear better results can be obtained by defining the Hessian as zero instead of using quasi-Newton approximations.\n",
      "  warn('delta_grad == 0.0. Check if the approximated '\n"
     ]
    },
    {
     "name": "stdout",
     "output_type": "stream",
     "text": [
      "   230 |    34500 |     29 |  0.000000E+00 |  0.000000E+00 |  2.613139E-10 |             f\n",
      "   231 |    34650 |     28 |  0.000000E+00 |  0.000000E+00 |  2.733069E-10 |             f\n"
     ]
    },
    {
     "name": "stderr",
     "output_type": "stream",
     "text": [
      "/home/michele/.cache/pypoetry/virtualenvs/net-flow-opt-va4GqYfJ-py3.10/lib/python3.10/site-packages/scipy/optimize/_hessian_update_strategy.py:182: UserWarning: delta_grad == 0.0. Check if the approximated function is linear. If the function is linear better results can be obtained by defining the Hessian as zero instead of using quasi-Newton approximations.\n",
      "  warn('delta_grad == 0.0. Check if the approximated '\n"
     ]
    },
    {
     "name": "stdout",
     "output_type": "stream",
     "text": [
      "   232 |    34800 |     29 |  0.000000E+00 |  0.000000E+00 |  0.0296304049 |         nadir\n"
     ]
    },
    {
     "name": "stderr",
     "output_type": "stream",
     "text": [
      "/home/michele/.cache/pypoetry/virtualenvs/net-flow-opt-va4GqYfJ-py3.10/lib/python3.10/site-packages/scipy/optimize/_hessian_update_strategy.py:182: UserWarning: delta_grad == 0.0. Check if the approximated function is linear. If the function is linear better results can be obtained by defining the Hessian as zero instead of using quasi-Newton approximations.\n",
      "  warn('delta_grad == 0.0. Check if the approximated '\n"
     ]
    },
    {
     "name": "stdout",
     "output_type": "stream",
     "text": [
      "   233 |    34950 |     29 |  0.000000E+00 |  0.000000E+00 |  0.000000E+00 |             f\n",
      "   234 |    35100 |     29 |  0.000000E+00 |  0.000000E+00 |  0.000000E+00 |             f\n",
      "   235 |    35250 |     29 |  0.000000E+00 |  0.000000E+00 |  0.000000E+00 |             f\n",
      "   236 |    35400 |     29 |  0.000000E+00 |  0.000000E+00 |  0.000000E+00 |             f\n",
      "   237 |    35550 |     29 |  0.000000E+00 |  0.000000E+00 |  0.000000E+00 |             f\n"
     ]
    },
    {
     "name": "stderr",
     "output_type": "stream",
     "text": [
      "/home/michele/.cache/pypoetry/virtualenvs/net-flow-opt-va4GqYfJ-py3.10/lib/python3.10/site-packages/scipy/optimize/_hessian_update_strategy.py:182: UserWarning: delta_grad == 0.0. Check if the approximated function is linear. If the function is linear better results can be obtained by defining the Hessian as zero instead of using quasi-Newton approximations.\n",
      "  warn('delta_grad == 0.0. Check if the approximated '\n"
     ]
    },
    {
     "name": "stdout",
     "output_type": "stream",
     "text": [
      "   238 |    35700 |     29 |  0.000000E+00 |  0.000000E+00 |  0.000000E+00 |             f\n",
      "   239 |    35850 |     29 |  0.000000E+00 |  0.000000E+00 |  0.000000E+00 |             f\n"
     ]
    },
    {
     "name": "stderr",
     "output_type": "stream",
     "text": [
      "/home/michele/.cache/pypoetry/virtualenvs/net-flow-opt-va4GqYfJ-py3.10/lib/python3.10/site-packages/scipy/optimize/_hessian_update_strategy.py:182: UserWarning: delta_grad == 0.0. Check if the approximated function is linear. If the function is linear better results can be obtained by defining the Hessian as zero instead of using quasi-Newton approximations.\n",
      "  warn('delta_grad == 0.0. Check if the approximated '\n"
     ]
    },
    {
     "name": "stdout",
     "output_type": "stream",
     "text": [
      "   240 |    36000 |     29 |  0.000000E+00 |  0.000000E+00 |  0.000000E+00 |             f\n"
     ]
    },
    {
     "name": "stderr",
     "output_type": "stream",
     "text": [
      "/home/michele/.cache/pypoetry/virtualenvs/net-flow-opt-va4GqYfJ-py3.10/lib/python3.10/site-packages/scipy/optimize/_hessian_update_strategy.py:182: UserWarning: delta_grad == 0.0. Check if the approximated function is linear. If the function is linear better results can be obtained by defining the Hessian as zero instead of using quasi-Newton approximations.\n",
      "  warn('delta_grad == 0.0. Check if the approximated '\n"
     ]
    },
    {
     "name": "stdout",
     "output_type": "stream",
     "text": [
      "   241 |    36150 |     29 |  0.000000E+00 |  0.000000E+00 |  0.000000E+00 |             f\n",
      "   242 |    36300 |     29 |  0.000000E+00 |  0.000000E+00 |  0.000000E+00 |             f\n"
     ]
    },
    {
     "name": "stderr",
     "output_type": "stream",
     "text": [
      "/home/michele/.cache/pypoetry/virtualenvs/net-flow-opt-va4GqYfJ-py3.10/lib/python3.10/site-packages/scipy/optimize/_hessian_update_strategy.py:182: UserWarning: delta_grad == 0.0. Check if the approximated function is linear. If the function is linear better results can be obtained by defining the Hessian as zero instead of using quasi-Newton approximations.\n",
      "  warn('delta_grad == 0.0. Check if the approximated '\n"
     ]
    },
    {
     "name": "stdout",
     "output_type": "stream",
     "text": [
      "   243 |    36450 |     29 |  0.000000E+00 |  0.000000E+00 |  0.000000E+00 |             f\n",
      "   244 |    36600 |     29 |  0.000000E+00 |  0.000000E+00 |  0.000000E+00 |             f\n",
      "   245 |    36750 |     29 |  0.000000E+00 |  0.000000E+00 |  0.000000E+00 |             f\n",
      "   246 |    36900 |     30 |  0.000000E+00 |  0.000000E+00 |  2.818007E-11 |             f\n",
      "   247 |    37050 |     30 |  0.000000E+00 |  0.000000E+00 |  2.818007E-11 |             f\n"
     ]
    },
    {
     "name": "stderr",
     "output_type": "stream",
     "text": [
      "/home/michele/.cache/pypoetry/virtualenvs/net-flow-opt-va4GqYfJ-py3.10/lib/python3.10/site-packages/scipy/optimize/_hessian_update_strategy.py:182: UserWarning: delta_grad == 0.0. Check if the approximated function is linear. If the function is linear better results can be obtained by defining the Hessian as zero instead of using quasi-Newton approximations.\n",
      "  warn('delta_grad == 0.0. Check if the approximated '\n",
      "/home/michele/.cache/pypoetry/virtualenvs/net-flow-opt-va4GqYfJ-py3.10/lib/python3.10/site-packages/scipy/optimize/_hessian_update_strategy.py:182: UserWarning: delta_grad == 0.0. Check if the approximated function is linear. If the function is linear better results can be obtained by defining the Hessian as zero instead of using quasi-Newton approximations.\n",
      "  warn('delta_grad == 0.0. Check if the approximated '\n",
      "/home/michele/.cache/pypoetry/virtualenvs/net-flow-opt-va4GqYfJ-py3.10/lib/python3.10/site-packages/scipy/optimize/_hessian_update_strategy.py:182: UserWarning: delta_grad == 0.0. Check if the approximated function is linear. If the function is linear better results can be obtained by defining the Hessian as zero instead of using quasi-Newton approximations.\n",
      "  warn('delta_grad == 0.0. Check if the approximated '\n"
     ]
    },
    {
     "name": "stdout",
     "output_type": "stream",
     "text": [
      "   248 |    37200 |     30 |  0.000000E+00 |  0.000000E+00 |  2.818007E-11 |             f\n",
      "   249 |    37350 |     30 |  0.000000E+00 |  0.000000E+00 |  2.818007E-11 |             f\n"
     ]
    },
    {
     "name": "stderr",
     "output_type": "stream",
     "text": [
      "/home/michele/.cache/pypoetry/virtualenvs/net-flow-opt-va4GqYfJ-py3.10/lib/python3.10/site-packages/scipy/optimize/_hessian_update_strategy.py:182: UserWarning: delta_grad == 0.0. Check if the approximated function is linear. If the function is linear better results can be obtained by defining the Hessian as zero instead of using quasi-Newton approximations.\n",
      "  warn('delta_grad == 0.0. Check if the approximated '\n",
      "/home/michele/.cache/pypoetry/virtualenvs/net-flow-opt-va4GqYfJ-py3.10/lib/python3.10/site-packages/scipy/optimize/_hessian_update_strategy.py:182: UserWarning: delta_grad == 0.0. Check if the approximated function is linear. If the function is linear better results can be obtained by defining the Hessian as zero instead of using quasi-Newton approximations.\n",
      "  warn('delta_grad == 0.0. Check if the approximated '\n"
     ]
    },
    {
     "name": "stdout",
     "output_type": "stream",
     "text": [
      "   250 |    37500 |     30 |  0.000000E+00 |  0.000000E+00 |  2.818007E-11 |             f\n",
      "Experiment with r=2 completed.\n"
     ]
    }
   ],
   "source": [
    "for resources in range(3, 6):\n",
    "    res = experiment(resources)\n",
    "\n",
    "    # save data\n",
    "    df = pd.DataFrame(res.opt.get(\"F\"), columns=['IC', 'LF'])\n",
    "    df.to_csv(f'../data/discrete_r{resources}.csv', index=False)\n",
    "\n",
    "    df = pd.DataFrame(np.array(res.algorithm.callback.data['hv']), columns=['HV'])\n",
    "    df.index.name = 'iter'\n",
    "    df.to_csv(f'../data/discrete_hv_r{resources}.csv')\n",
    "\n",
    "    with open(f'../data/discrete_r{resources}', 'wb') as f:\n",
    "        dill.dump(res, f)\n",
    "\n",
    "    print(f\"Experiment with r={resources} completed.\")"
   ]
  },
  {
   "cell_type": "code",
   "execution_count": 5,
   "metadata": {},
   "outputs": [
    {
     "data": {
      "text/plain": [
       "<pymoo.visualization.scatter.Scatter at 0x7fbfe39598d0>"
      ]
     },
     "execution_count": 5,
     "metadata": {},
     "output_type": "execute_result"
    },
    {
     "data": {
      "image/png": "[encoded data removed]",
      "text/plain": [
       "<Figure size 800x600 with 1 Axes>"
      ]
     },
     "metadata": {},
     "output_type": "display_data"
    }
   ],
   "source": [
    "F = res.opt.get(\"F\")\n",
    "plot = Scatter(\n",
    "    title=\"Continuous model Pareto front\",\n",
    "    labels=['IC', 'FL']\n",
    ")\n",
    "plot.add(F)\n",
    "plot.show()"
   ]
  },
  {
   "cell_type": "code",
   "execution_count": 6,
   "metadata": {},
   "outputs": [
    {
     "data": {
      "text/plain": [
       "[<matplotlib.lines.Line2D at 0x7fbfe39e8cd0>]"
      ]
     },
     "execution_count": 6,
     "metadata": {},
     "output_type": "execute_result"
    },
    {
     "data": {
      "image/png": "[encoded data removed]",
      "text/plain": [
       "<Figure size 640x480 with 1 Axes>"
      ]
     },
     "metadata": {},
     "output_type": "display_data"
    }
   ],
   "source": [
    "\n",
    "hv = np.array(res.algorithm.callback.data['hv'])\n",
    "\n",
    "plt.plot(hv)"
   ]
  }
 ],
 "metadata": {
  "kernelspec": {
   "display_name": "net-flow-opt-nxkwTGQf-py3.10",
   "language": "python",
   "name": "python3"
  },
  "language_info": {
   "codemirror_mode": {
    "name": "ipython",
    "version": 3
   },
   "file_extension": ".py",
   "mimetype": "text/x-python",
   "name": "python",
   "nbconvert_exporter": "python",
   "pygments_lexer": "ipython3",
   "version": "3.10.12"
  },
  "orig_nbformat": 4
 },
 "nbformat": 4,
 "nbformat_minor": 2
}
