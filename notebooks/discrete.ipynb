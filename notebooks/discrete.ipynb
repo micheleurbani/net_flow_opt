{
 "cells": [
  {
   "cell_type": "code",
   "execution_count": 1,
   "metadata": {},
   "outputs": [],
   "source": [
    "import os\n",
    "import sys\n",
    "module_path = os.path.abspath(os.path.join('..'))\n",
    "if module_path not in sys.path:\n",
    "    sys.path.append(module_path)\n",
    "\n",
    "from pymoo.algorithms.moo.nsga2 import NSGA2\n",
    "from pymoo.optimize import minimize\n",
    "from pymoo.operators.crossover.sbx import SBX\n",
    "from pymoo.operators.mutation.pm import PM\n",
    "from pymoo.operators.repair.rounding import RoundingRepair\n",
    "from pymoo.operators.sampling.rnd import IntegerRandomSampling\n",
    "from pymoo.visualization.scatter import Scatter\n",
    "\n",
    "from net_flow_opt.utils import components, structure, activities_duration\n",
    "from net_flow_opt.system import System\n",
    "from net_flow_opt.scheduler import  Plan, Activity\n",
    "from net_flow_opt.discrete_model import DiscreteModel\n"
   ]
  },
  {
   "cell_type": "markdown",
   "metadata": {},
   "source": [
    "Main parameters of the experiment are declared here."
   ]
  },
  {
   "cell_type": "code",
   "execution_count": 2,
   "metadata": {},
   "outputs": [],
   "source": [
    "pop_size = 150\n",
    "termination = ('n_gen', 200)\n",
    "seed = 1124"
   ]
  },
  {
   "cell_type": "markdown",
   "metadata": {},
   "source": [
    "The cells below repeat the experiment with a different number of resources."
   ]
  },
  {
   "cell_type": "code",
   "execution_count": 3,
   "metadata": {},
   "outputs": [],
   "source": [
    "resources = 3\n",
    "\n",
    "system = System(structure, resources, components)\n",
    "\n",
    "dates = [c.x_star for c in components]\n",
    "\n",
    "original_activities = [\n",
    "    Activity(component, date, duration)\n",
    "    for component, date, duration in zip(system.components, dates, activities_duration)\n",
    "]\n",
    "\n",
    "original_plan = Plan(\n",
    "    system=system,\n",
    "    activities=original_activities\n",
    ")\n",
    "\n",
    "problem = DiscreteModel(\n",
    "    system=system,\n",
    "    original_plan=original_plan,\n",
    "    resources=resources,\n",
    ")\n",
    "\n",
    "algorithm = NSGA2(\n",
    "    sampling=IntegerRandomSampling(),\n",
    "    crossover=SBX(prob=1.0, eta=3.0, vtype=float, repair=RoundingRepair()),\n",
    "    mutation=PM(prob=1.0, eta=3.0, vtype=float, repair=RoundingRepair()),\n",
    "    pop_size=pop_size,\n",
    "    eliminate_duplicates=True,\n",
    ")"
   ]
  },
  {
   "cell_type": "markdown",
   "metadata": {},
   "source": [
    "Run the experiment using the number of iterations to stop the algorithm."
   ]
  },
  {
   "cell_type": "code",
   "execution_count": 4,
   "metadata": {},
   "outputs": [
    {
     "name": "stderr",
     "output_type": "stream",
     "text": [
      "/home/miki/.cache/pypoetry/virtualenvs/net-flow-opt-nxkwTGQf-py3.10/lib/python3.10/site-packages/scipy/optimize/_hessian_update_strategy.py:182: UserWarning: delta_grad == 0.0. Check if the approximated function is linear. If the function is linear better results can be obtained by defining the Hessian as zero instead of using quasi-Newton approximations.\n",
      "  warn('delta_grad == 0.0. Check if the approximated '\n"
     ]
    },
    {
     "name": "stdout",
     "output_type": "stream",
     "text": [
      "==========================================================================================\n",
      "n_gen  |  n_eval  | n_nds  |     cv_min    |     cv_avg    |      eps      |   indicator  \n",
      "==========================================================================================\n",
      "     1 |      150 |      2 |  0.000000E+00 |  0.0400000000 |             - |             -\n"
     ]
    },
    {
     "name": "stderr",
     "output_type": "stream",
     "text": [
      "/home/miki/.cache/pypoetry/virtualenvs/net-flow-opt-nxkwTGQf-py3.10/lib/python3.10/site-packages/scipy/optimize/_hessian_update_strategy.py:182: UserWarning: delta_grad == 0.0. Check if the approximated function is linear. If the function is linear better results can be obtained by defining the Hessian as zero instead of using quasi-Newton approximations.\n",
      "  warn('delta_grad == 0.0. Check if the approximated '\n"
     ]
    },
    {
     "name": "stdout",
     "output_type": "stream",
     "text": [
      "     2 |      300 |      3 |  0.000000E+00 |  0.000000E+00 |  0.2542608739 |             f\n",
      "     3 |      450 |      6 |  0.000000E+00 |  0.000000E+00 |  0.1591081556 |         ideal\n"
     ]
    },
    {
     "name": "stderr",
     "output_type": "stream",
     "text": [
      "/home/miki/.cache/pypoetry/virtualenvs/net-flow-opt-nxkwTGQf-py3.10/lib/python3.10/site-packages/scipy/optimize/_hessian_update_strategy.py:182: UserWarning: delta_grad == 0.0. Check if the approximated function is linear. If the function is linear better results can be obtained by defining the Hessian as zero instead of using quasi-Newton approximations.\n",
      "  warn('delta_grad == 0.0. Check if the approximated '\n"
     ]
    },
    {
     "name": "stdout",
     "output_type": "stream",
     "text": [
      "     4 |      600 |      6 |  0.000000E+00 |  0.000000E+00 |  0.1454289486 |         ideal\n",
      "     5 |      750 |     10 |  0.000000E+00 |  0.000000E+00 |  0.0035265545 |         ideal\n"
     ]
    },
    {
     "name": "stderr",
     "output_type": "stream",
     "text": [
      "/home/miki/.cache/pypoetry/virtualenvs/net-flow-opt-nxkwTGQf-py3.10/lib/python3.10/site-packages/scipy/optimize/_hessian_update_strategy.py:182: UserWarning: delta_grad == 0.0. Check if the approximated function is linear. If the function is linear better results can be obtained by defining the Hessian as zero instead of using quasi-Newton approximations.\n",
      "  warn('delta_grad == 0.0. Check if the approximated '\n"
     ]
    },
    {
     "name": "stdout",
     "output_type": "stream",
     "text": [
      "     6 |      900 |      9 |  0.000000E+00 |  0.000000E+00 |  0.0204677473 |             f\n",
      "     7 |     1050 |     11 |  0.000000E+00 |  0.000000E+00 |  0.0770677946 |         ideal\n",
      "     8 |     1200 |     13 |  0.000000E+00 |  0.000000E+00 |  0.0436096472 |         ideal\n",
      "     9 |     1350 |     12 |  0.000000E+00 |  0.000000E+00 |  0.0148206774 |         ideal\n",
      "    10 |     1500 |     12 |  0.000000E+00 |  0.000000E+00 |  0.1423306506 |         ideal\n"
     ]
    },
    {
     "name": "stderr",
     "output_type": "stream",
     "text": [
      "/home/miki/.cache/pypoetry/virtualenvs/net-flow-opt-nxkwTGQf-py3.10/lib/python3.10/site-packages/scipy/optimize/_hessian_update_strategy.py:182: UserWarning: delta_grad == 0.0. Check if the approximated function is linear. If the function is linear better results can be obtained by defining the Hessian as zero instead of using quasi-Newton approximations.\n",
      "  warn('delta_grad == 0.0. Check if the approximated '\n"
     ]
    },
    {
     "name": "stdout",
     "output_type": "stream",
     "text": [
      "    11 |     1650 |     18 |  0.000000E+00 |  0.000000E+00 |  0.0339234662 |             f\n",
      "    12 |     1800 |     17 |  0.000000E+00 |  0.000000E+00 |  0.0125964307 |         ideal\n",
      "    13 |     1950 |     14 |  0.000000E+00 |  0.000000E+00 |  0.0026019485 |         ideal\n",
      "    14 |     2100 |     16 |  0.000000E+00 |  0.000000E+00 |  0.0043413112 |             f\n"
     ]
    },
    {
     "name": "stderr",
     "output_type": "stream",
     "text": [
      "/home/miki/.cache/pypoetry/virtualenvs/net-flow-opt-nxkwTGQf-py3.10/lib/python3.10/site-packages/scipy/optimize/_hessian_update_strategy.py:182: UserWarning: delta_grad == 0.0. Check if the approximated function is linear. If the function is linear better results can be obtained by defining the Hessian as zero instead of using quasi-Newton approximations.\n",
      "  warn('delta_grad == 0.0. Check if the approximated '\n"
     ]
    },
    {
     "name": "stdout",
     "output_type": "stream",
     "text": [
      "    15 |     2250 |     18 |  0.000000E+00 |  0.000000E+00 |  0.0070322939 |             f\n",
      "    16 |     2400 |     20 |  0.000000E+00 |  0.000000E+00 |  0.0494853884 |         ideal\n",
      "    17 |     2550 |     20 |  0.000000E+00 |  0.000000E+00 |  0.000000E+00 |             f\n",
      "    18 |     2700 |     21 |  0.000000E+00 |  0.000000E+00 |  0.0054123948 |         ideal\n"
     ]
    },
    {
     "name": "stderr",
     "output_type": "stream",
     "text": [
      "/home/miki/.cache/pypoetry/virtualenvs/net-flow-opt-nxkwTGQf-py3.10/lib/python3.10/site-packages/scipy/optimize/_hessian_update_strategy.py:182: UserWarning: delta_grad == 0.0. Check if the approximated function is linear. If the function is linear better results can be obtained by defining the Hessian as zero instead of using quasi-Newton approximations.\n",
      "  warn('delta_grad == 0.0. Check if the approximated '\n"
     ]
    },
    {
     "name": "stdout",
     "output_type": "stream",
     "text": [
      "    19 |     2850 |     21 |  0.000000E+00 |  0.000000E+00 |  0.0135364851 |             f\n",
      "    20 |     3000 |     25 |  0.000000E+00 |  0.000000E+00 |  0.0068257807 |         ideal\n"
     ]
    },
    {
     "name": "stderr",
     "output_type": "stream",
     "text": [
      "/home/miki/.cache/pypoetry/virtualenvs/net-flow-opt-nxkwTGQf-py3.10/lib/python3.10/site-packages/scipy/optimize/_hessian_update_strategy.py:182: UserWarning: delta_grad == 0.0. Check if the approximated function is linear. If the function is linear better results can be obtained by defining the Hessian as zero instead of using quasi-Newton approximations.\n",
      "  warn('delta_grad == 0.0. Check if the approximated '\n",
      "/home/miki/.cache/pypoetry/virtualenvs/net-flow-opt-nxkwTGQf-py3.10/lib/python3.10/site-packages/scipy/optimize/_hessian_update_strategy.py:182: UserWarning: delta_grad == 0.0. Check if the approximated function is linear. If the function is linear better results can be obtained by defining the Hessian as zero instead of using quasi-Newton approximations.\n",
      "  warn('delta_grad == 0.0. Check if the approximated '\n"
     ]
    },
    {
     "name": "stdout",
     "output_type": "stream",
     "text": [
      "    21 |     3150 |     25 |  0.000000E+00 |  0.000000E+00 |  0.0063574917 |             f\n"
     ]
    },
    {
     "name": "stderr",
     "output_type": "stream",
     "text": [
      "/home/miki/.cache/pypoetry/virtualenvs/net-flow-opt-nxkwTGQf-py3.10/lib/python3.10/site-packages/scipy/optimize/_hessian_update_strategy.py:182: UserWarning: delta_grad == 0.0. Check if the approximated function is linear. If the function is linear better results can be obtained by defining the Hessian as zero instead of using quasi-Newton approximations.\n",
      "  warn('delta_grad == 0.0. Check if the approximated '\n",
      "/home/miki/.cache/pypoetry/virtualenvs/net-flow-opt-nxkwTGQf-py3.10/lib/python3.10/site-packages/scipy/optimize/_hessian_update_strategy.py:182: UserWarning: delta_grad == 0.0. Check if the approximated function is linear. If the function is linear better results can be obtained by defining the Hessian as zero instead of using quasi-Newton approximations.\n",
      "  warn('delta_grad == 0.0. Check if the approximated '\n"
     ]
    },
    {
     "name": "stdout",
     "output_type": "stream",
     "text": [
      "    22 |     3300 |     25 |  0.000000E+00 |  0.000000E+00 |  0.0136541691 |         ideal\n"
     ]
    },
    {
     "name": "stderr",
     "output_type": "stream",
     "text": [
      "/home/miki/.cache/pypoetry/virtualenvs/net-flow-opt-nxkwTGQf-py3.10/lib/python3.10/site-packages/scipy/optimize/_hessian_update_strategy.py:182: UserWarning: delta_grad == 0.0. Check if the approximated function is linear. If the function is linear better results can be obtained by defining the Hessian as zero instead of using quasi-Newton approximations.\n",
      "  warn('delta_grad == 0.0. Check if the approximated '\n"
     ]
    },
    {
     "name": "stdout",
     "output_type": "stream",
     "text": [
      "    23 |     3450 |     26 |  0.000000E+00 |  0.000000E+00 |  0.0024484036 |             f\n",
      "    24 |     3600 |     27 |  0.000000E+00 |  0.000000E+00 |  0.0052733750 |             f\n"
     ]
    },
    {
     "name": "stderr",
     "output_type": "stream",
     "text": [
      "/home/miki/.cache/pypoetry/virtualenvs/net-flow-opt-nxkwTGQf-py3.10/lib/python3.10/site-packages/scipy/optimize/_hessian_update_strategy.py:182: UserWarning: delta_grad == 0.0. Check if the approximated function is linear. If the function is linear better results can be obtained by defining the Hessian as zero instead of using quasi-Newton approximations.\n",
      "  warn('delta_grad == 0.0. Check if the approximated '\n"
     ]
    },
    {
     "name": "stdout",
     "output_type": "stream",
     "text": [
      "    25 |     3750 |     24 |  0.000000E+00 |  0.000000E+00 |  0.0004232201 |             f\n",
      "    26 |     3900 |     26 |  0.000000E+00 |  0.000000E+00 |  0.1520303588 |         nadir\n",
      "    27 |     4050 |     31 |  0.000000E+00 |  0.000000E+00 |  0.0006941648 |             f\n"
     ]
    },
    {
     "name": "stderr",
     "output_type": "stream",
     "text": [
      "/home/miki/.cache/pypoetry/virtualenvs/net-flow-opt-nxkwTGQf-py3.10/lib/python3.10/site-packages/scipy/optimize/_hessian_update_strategy.py:182: UserWarning: delta_grad == 0.0. Check if the approximated function is linear. If the function is linear better results can be obtained by defining the Hessian as zero instead of using quasi-Newton approximations.\n",
      "  warn('delta_grad == 0.0. Check if the approximated '\n"
     ]
    },
    {
     "name": "stdout",
     "output_type": "stream",
     "text": [
      "    28 |     4200 |     28 |  0.000000E+00 |  0.000000E+00 |  0.0033428733 |             f\n",
      "    29 |     4350 |     26 |  0.000000E+00 |  0.000000E+00 |  0.0028470086 |             f\n",
      "    30 |     4500 |     28 |  0.000000E+00 |  0.000000E+00 |  0.0030534751 |             f\n",
      "    31 |     4650 |     29 |  0.000000E+00 |  0.000000E+00 |  0.0035008725 |             f\n",
      "    32 |     4800 |     29 |  0.000000E+00 |  0.000000E+00 |  0.0031233465 |             f\n"
     ]
    },
    {
     "name": "stderr",
     "output_type": "stream",
     "text": [
      "/home/miki/.cache/pypoetry/virtualenvs/net-flow-opt-nxkwTGQf-py3.10/lib/python3.10/site-packages/scipy/optimize/_hessian_update_strategy.py:182: UserWarning: delta_grad == 0.0. Check if the approximated function is linear. If the function is linear better results can be obtained by defining the Hessian as zero instead of using quasi-Newton approximations.\n",
      "  warn('delta_grad == 0.0. Check if the approximated '\n"
     ]
    },
    {
     "name": "stdout",
     "output_type": "stream",
     "text": [
      "    33 |     4950 |     30 |  0.000000E+00 |  0.000000E+00 |  0.0003287854 |             f\n"
     ]
    },
    {
     "name": "stderr",
     "output_type": "stream",
     "text": [
      "/home/miki/.cache/pypoetry/virtualenvs/net-flow-opt-nxkwTGQf-py3.10/lib/python3.10/site-packages/scipy/optimize/_hessian_update_strategy.py:182: UserWarning: delta_grad == 0.0. Check if the approximated function is linear. If the function is linear better results can be obtained by defining the Hessian as zero instead of using quasi-Newton approximations.\n",
      "  warn('delta_grad == 0.0. Check if the approximated '\n"
     ]
    },
    {
     "name": "stdout",
     "output_type": "stream",
     "text": [
      "    34 |     5100 |     23 |  0.000000E+00 |  0.000000E+00 |  0.0596166331 |         nadir\n"
     ]
    },
    {
     "name": "stderr",
     "output_type": "stream",
     "text": [
      "/home/miki/.cache/pypoetry/virtualenvs/net-flow-opt-nxkwTGQf-py3.10/lib/python3.10/site-packages/scipy/optimize/_hessian_update_strategy.py:182: UserWarning: delta_grad == 0.0. Check if the approximated function is linear. If the function is linear better results can be obtained by defining the Hessian as zero instead of using quasi-Newton approximations.\n",
      "  warn('delta_grad == 0.0. Check if the approximated '\n",
      "/home/miki/.cache/pypoetry/virtualenvs/net-flow-opt-nxkwTGQf-py3.10/lib/python3.10/site-packages/scipy/optimize/_hessian_update_strategy.py:182: UserWarning: delta_grad == 0.0. Check if the approximated function is linear. If the function is linear better results can be obtained by defining the Hessian as zero instead of using quasi-Newton approximations.\n",
      "  warn('delta_grad == 0.0. Check if the approximated '\n"
     ]
    },
    {
     "name": "stdout",
     "output_type": "stream",
     "text": [
      "    35 |     5250 |     24 |  0.000000E+00 |  0.000000E+00 |  1.238986E-10 |             f\n",
      "    36 |     5400 |     25 |  0.000000E+00 |  0.000000E+00 |  0.0034961439 |             f\n",
      "    37 |     5550 |     26 |  0.000000E+00 |  0.000000E+00 |  1.815922E-10 |             f\n"
     ]
    },
    {
     "name": "stderr",
     "output_type": "stream",
     "text": [
      "/home/miki/.cache/pypoetry/virtualenvs/net-flow-opt-nxkwTGQf-py3.10/lib/python3.10/site-packages/scipy/optimize/_hessian_update_strategy.py:182: UserWarning: delta_grad == 0.0. Check if the approximated function is linear. If the function is linear better results can be obtained by defining the Hessian as zero instead of using quasi-Newton approximations.\n",
      "  warn('delta_grad == 0.0. Check if the approximated '\n"
     ]
    },
    {
     "name": "stdout",
     "output_type": "stream",
     "text": [
      "    38 |     5700 |     30 |  0.000000E+00 |  0.000000E+00 |  0.0012856613 |             f\n",
      "    39 |     5850 |     26 |  0.000000E+00 |  0.000000E+00 |  0.0034199940 |             f\n",
      "    40 |     6000 |     27 |  0.000000E+00 |  0.000000E+00 |  0.0004641414 |             f\n",
      "    41 |     6150 |     25 |  0.000000E+00 |  0.000000E+00 |  0.0037437154 |             f\n",
      "    42 |     6300 |     24 |  0.000000E+00 |  0.000000E+00 |  9.340481E-06 |             f\n",
      "    43 |     6450 |     26 |  0.000000E+00 |  0.000000E+00 |  0.0014767040 |             f\n",
      "    44 |     6600 |     26 |  0.000000E+00 |  0.000000E+00 |  0.0029399881 |             f\n"
     ]
    },
    {
     "name": "stderr",
     "output_type": "stream",
     "text": [
      "/home/miki/.cache/pypoetry/virtualenvs/net-flow-opt-nxkwTGQf-py3.10/lib/python3.10/site-packages/scipy/optimize/_hessian_update_strategy.py:182: UserWarning: delta_grad == 0.0. Check if the approximated function is linear. If the function is linear better results can be obtained by defining the Hessian as zero instead of using quasi-Newton approximations.\n",
      "  warn('delta_grad == 0.0. Check if the approximated '\n"
     ]
    },
    {
     "name": "stdout",
     "output_type": "stream",
     "text": [
      "    45 |     6750 |     27 |  0.000000E+00 |  0.000000E+00 |  0.0015014855 |             f\n"
     ]
    },
    {
     "name": "stderr",
     "output_type": "stream",
     "text": [
      "/home/miki/.cache/pypoetry/virtualenvs/net-flow-opt-nxkwTGQf-py3.10/lib/python3.10/site-packages/scipy/optimize/_hessian_update_strategy.py:182: UserWarning: delta_grad == 0.0. Check if the approximated function is linear. If the function is linear better results can be obtained by defining the Hessian as zero instead of using quasi-Newton approximations.\n",
      "  warn('delta_grad == 0.0. Check if the approximated '\n"
     ]
    },
    {
     "name": "stdout",
     "output_type": "stream",
     "text": [
      "    46 |     6900 |     27 |  0.000000E+00 |  0.000000E+00 |  0.0016667288 |             f\n",
      "    47 |     7050 |     27 |  0.000000E+00 |  0.000000E+00 |  0.0016667291 |             f\n",
      "    48 |     7200 |     31 |  0.000000E+00 |  0.000000E+00 |  0.0039709146 |             f\n",
      "    49 |     7350 |     34 |  0.000000E+00 |  0.000000E+00 |  0.0000993331 |             f\n",
      "    50 |     7500 |     29 |  0.000000E+00 |  0.000000E+00 |  0.0004993681 |             f\n",
      "    51 |     7650 |     32 |  0.000000E+00 |  0.000000E+00 |  0.0031144908 |             f\n"
     ]
    },
    {
     "name": "stderr",
     "output_type": "stream",
     "text": [
      "/home/miki/.cache/pypoetry/virtualenvs/net-flow-opt-nxkwTGQf-py3.10/lib/python3.10/site-packages/scipy/optimize/_hessian_update_strategy.py:182: UserWarning: delta_grad == 0.0. Check if the approximated function is linear. If the function is linear better results can be obtained by defining the Hessian as zero instead of using quasi-Newton approximations.\n",
      "  warn('delta_grad == 0.0. Check if the approximated '\n",
      "/home/miki/.cache/pypoetry/virtualenvs/net-flow-opt-nxkwTGQf-py3.10/lib/python3.10/site-packages/scipy/optimize/_hessian_update_strategy.py:182: UserWarning: delta_grad == 0.0. Check if the approximated function is linear. If the function is linear better results can be obtained by defining the Hessian as zero instead of using quasi-Newton approximations.\n",
      "  warn('delta_grad == 0.0. Check if the approximated '\n"
     ]
    },
    {
     "name": "stdout",
     "output_type": "stream",
     "text": [
      "    52 |     7800 |     36 |  0.000000E+00 |  0.000000E+00 |  0.1524974599 |         nadir\n"
     ]
    },
    {
     "name": "stderr",
     "output_type": "stream",
     "text": [
      "/home/miki/.cache/pypoetry/virtualenvs/net-flow-opt-nxkwTGQf-py3.10/lib/python3.10/site-packages/scipy/optimize/_hessian_update_strategy.py:182: UserWarning: delta_grad == 0.0. Check if the approximated function is linear. If the function is linear better results can be obtained by defining the Hessian as zero instead of using quasi-Newton approximations.\n",
      "  warn('delta_grad == 0.0. Check if the approximated '\n"
     ]
    },
    {
     "name": "stdout",
     "output_type": "stream",
     "text": [
      "    53 |     7950 |     29 |  0.000000E+00 |  0.000000E+00 |  0.0015332758 |             f\n"
     ]
    },
    {
     "name": "stderr",
     "output_type": "stream",
     "text": [
      "/home/miki/.cache/pypoetry/virtualenvs/net-flow-opt-nxkwTGQf-py3.10/lib/python3.10/site-packages/scipy/optimize/_hessian_update_strategy.py:182: UserWarning: delta_grad == 0.0. Check if the approximated function is linear. If the function is linear better results can be obtained by defining the Hessian as zero instead of using quasi-Newton approximations.\n",
      "  warn('delta_grad == 0.0. Check if the approximated '\n"
     ]
    },
    {
     "name": "stdout",
     "output_type": "stream",
     "text": [
      "    54 |     8100 |     28 |  0.000000E+00 |  0.000000E+00 |  0.0015880365 |             f\n",
      "    55 |     8250 |     29 |  0.000000E+00 |  0.000000E+00 |  0.0017902762 |             f\n",
      "    56 |     8400 |     30 |  0.000000E+00 |  0.000000E+00 |  0.0031701944 |             f\n"
     ]
    },
    {
     "name": "stderr",
     "output_type": "stream",
     "text": [
      "/home/miki/.cache/pypoetry/virtualenvs/net-flow-opt-nxkwTGQf-py3.10/lib/python3.10/site-packages/scipy/optimize/_hessian_update_strategy.py:182: UserWarning: delta_grad == 0.0. Check if the approximated function is linear. If the function is linear better results can be obtained by defining the Hessian as zero instead of using quasi-Newton approximations.\n",
      "  warn('delta_grad == 0.0. Check if the approximated '\n"
     ]
    },
    {
     "name": "stdout",
     "output_type": "stream",
     "text": [
      "    57 |     8550 |     33 |  0.000000E+00 |  0.000000E+00 |  0.0018615859 |             f\n"
     ]
    },
    {
     "name": "stderr",
     "output_type": "stream",
     "text": [
      "/home/miki/.cache/pypoetry/virtualenvs/net-flow-opt-nxkwTGQf-py3.10/lib/python3.10/site-packages/scipy/optimize/_hessian_update_strategy.py:182: UserWarning: delta_grad == 0.0. Check if the approximated function is linear. If the function is linear better results can be obtained by defining the Hessian as zero instead of using quasi-Newton approximations.\n",
      "  warn('delta_grad == 0.0. Check if the approximated '\n"
     ]
    },
    {
     "name": "stdout",
     "output_type": "stream",
     "text": [
      "    58 |     8700 |     33 |  0.000000E+00 |  0.000000E+00 |  0.0018615859 |             f\n"
     ]
    },
    {
     "name": "stderr",
     "output_type": "stream",
     "text": [
      "/home/miki/.cache/pypoetry/virtualenvs/net-flow-opt-nxkwTGQf-py3.10/lib/python3.10/site-packages/scipy/optimize/_hessian_update_strategy.py:182: UserWarning: delta_grad == 0.0. Check if the approximated function is linear. If the function is linear better results can be obtained by defining the Hessian as zero instead of using quasi-Newton approximations.\n",
      "  warn('delta_grad == 0.0. Check if the approximated '\n"
     ]
    },
    {
     "name": "stdout",
     "output_type": "stream",
     "text": [
      "    59 |     8850 |     34 |  0.000000E+00 |  0.000000E+00 |  0.0018068334 |             f\n",
      "    60 |     9000 |     36 |  0.000000E+00 |  0.000000E+00 |  0.0022773944 |             f\n"
     ]
    },
    {
     "name": "stderr",
     "output_type": "stream",
     "text": [
      "/home/miki/.cache/pypoetry/virtualenvs/net-flow-opt-nxkwTGQf-py3.10/lib/python3.10/site-packages/scipy/optimize/_hessian_update_strategy.py:182: UserWarning: delta_grad == 0.0. Check if the approximated function is linear. If the function is linear better results can be obtained by defining the Hessian as zero instead of using quasi-Newton approximations.\n",
      "  warn('delta_grad == 0.0. Check if the approximated '\n"
     ]
    },
    {
     "name": "stdout",
     "output_type": "stream",
     "text": [
      "    61 |     9150 |     35 |  0.000000E+00 |  0.000000E+00 |  0.0023424631 |             f\n"
     ]
    },
    {
     "name": "stderr",
     "output_type": "stream",
     "text": [
      "/home/miki/.cache/pypoetry/virtualenvs/net-flow-opt-nxkwTGQf-py3.10/lib/python3.10/site-packages/scipy/optimize/_hessian_update_strategy.py:182: UserWarning: delta_grad == 0.0. Check if the approximated function is linear. If the function is linear better results can be obtained by defining the Hessian as zero instead of using quasi-Newton approximations.\n",
      "  warn('delta_grad == 0.0. Check if the approximated '\n"
     ]
    },
    {
     "name": "stdout",
     "output_type": "stream",
     "text": [
      "    62 |     9300 |     35 |  0.000000E+00 |  0.000000E+00 |  0.0023424631 |             f\n"
     ]
    },
    {
     "name": "stderr",
     "output_type": "stream",
     "text": [
      "/home/miki/.cache/pypoetry/virtualenvs/net-flow-opt-nxkwTGQf-py3.10/lib/python3.10/site-packages/scipy/optimize/_hessian_update_strategy.py:182: UserWarning: delta_grad == 0.0. Check if the approximated function is linear. If the function is linear better results can be obtained by defining the Hessian as zero instead of using quasi-Newton approximations.\n",
      "  warn('delta_grad == 0.0. Check if the approximated '\n"
     ]
    },
    {
     "name": "stdout",
     "output_type": "stream",
     "text": [
      "    63 |     9450 |     34 |  0.000000E+00 |  0.000000E+00 |  0.0024113590 |             f\n"
     ]
    },
    {
     "name": "stderr",
     "output_type": "stream",
     "text": [
      "/home/miki/.cache/pypoetry/virtualenvs/net-flow-opt-nxkwTGQf-py3.10/lib/python3.10/site-packages/scipy/optimize/_hessian_update_strategy.py:182: UserWarning: delta_grad == 0.0. Check if the approximated function is linear. If the function is linear better results can be obtained by defining the Hessian as zero instead of using quasi-Newton approximations.\n",
      "  warn('delta_grad == 0.0. Check if the approximated '\n",
      "/home/miki/.cache/pypoetry/virtualenvs/net-flow-opt-nxkwTGQf-py3.10/lib/python3.10/site-packages/scipy/optimize/_hessian_update_strategy.py:182: UserWarning: delta_grad == 0.0. Check if the approximated function is linear. If the function is linear better results can be obtained by defining the Hessian as zero instead of using quasi-Newton approximations.\n",
      "  warn('delta_grad == 0.0. Check if the approximated '\n"
     ]
    },
    {
     "name": "stdout",
     "output_type": "stream",
     "text": [
      "    64 |     9600 |     34 |  0.000000E+00 |  0.000000E+00 |  0.0024113590 |             f\n",
      "    65 |     9750 |     33 |  0.000000E+00 |  0.000000E+00 |  0.0024844307 |             f\n",
      "    66 |     9900 |     33 |  0.000000E+00 |  0.000000E+00 |  0.0024844307 |             f\n",
      "    67 |    10050 |     35 |  0.000000E+00 |  0.000000E+00 |  0.0028981531 |             f\n",
      "    68 |    10200 |     35 |  0.000000E+00 |  0.000000E+00 |  0.000000E+00 |             f\n",
      "    69 |    10350 |     35 |  0.000000E+00 |  0.000000E+00 |  0.000000E+00 |             f\n",
      "    70 |    10500 |     36 |  0.000000E+00 |  0.000000E+00 |  2.718270E-09 |             f\n",
      "    71 |    10650 |     37 |  0.000000E+00 |  0.000000E+00 |  0.0003581023 |             f\n",
      "    72 |    10800 |     37 |  0.000000E+00 |  0.000000E+00 |  0.0003581023 |             f\n"
     ]
    },
    {
     "name": "stderr",
     "output_type": "stream",
     "text": [
      "/home/miki/.cache/pypoetry/virtualenvs/net-flow-opt-nxkwTGQf-py3.10/lib/python3.10/site-packages/scipy/optimize/_hessian_update_strategy.py:182: UserWarning: delta_grad == 0.0. Check if the approximated function is linear. If the function is linear better results can be obtained by defining the Hessian as zero instead of using quasi-Newton approximations.\n",
      "  warn('delta_grad == 0.0. Check if the approximated '\n"
     ]
    },
    {
     "name": "stdout",
     "output_type": "stream",
     "text": [
      "    73 |    10950 |     37 |  0.000000E+00 |  0.000000E+00 |  0.0003581023 |             f\n",
      "    74 |    11100 |     37 |  0.000000E+00 |  0.000000E+00 |  0.0003581023 |             f\n"
     ]
    },
    {
     "name": "stderr",
     "output_type": "stream",
     "text": [
      "/home/miki/.cache/pypoetry/virtualenvs/net-flow-opt-nxkwTGQf-py3.10/lib/python3.10/site-packages/scipy/optimize/_hessian_update_strategy.py:182: UserWarning: delta_grad == 0.0. Check if the approximated function is linear. If the function is linear better results can be obtained by defining the Hessian as zero instead of using quasi-Newton approximations.\n",
      "  warn('delta_grad == 0.0. Check if the approximated '\n"
     ]
    },
    {
     "name": "stdout",
     "output_type": "stream",
     "text": [
      "    75 |    11250 |     37 |  0.000000E+00 |  0.000000E+00 |  0.0003581026 |             f\n",
      "    76 |    11400 |     37 |  0.000000E+00 |  0.000000E+00 |  0.0003581026 |             f\n",
      "    77 |    11550 |     37 |  0.000000E+00 |  0.000000E+00 |  0.0003581026 |             f\n",
      "    78 |    11700 |     37 |  0.000000E+00 |  0.000000E+00 |  0.0003581026 |             f\n",
      "    79 |    11850 |     38 |  0.000000E+00 |  0.000000E+00 |  0.0006973548 |             f\n",
      "    80 |    12000 |     39 |  0.000000E+00 |  0.000000E+00 |  0.0021720475 |             f\n"
     ]
    },
    {
     "name": "stderr",
     "output_type": "stream",
     "text": [
      "/home/miki/.cache/pypoetry/virtualenvs/net-flow-opt-nxkwTGQf-py3.10/lib/python3.10/site-packages/scipy/optimize/_hessian_update_strategy.py:182: UserWarning: delta_grad == 0.0. Check if the approximated function is linear. If the function is linear better results can be obtained by defining the Hessian as zero instead of using quasi-Newton approximations.\n",
      "  warn('delta_grad == 0.0. Check if the approximated '\n"
     ]
    },
    {
     "name": "stdout",
     "output_type": "stream",
     "text": [
      "    81 |    12150 |     39 |  0.000000E+00 |  0.000000E+00 |  0.0021720475 |             f\n"
     ]
    },
    {
     "name": "stderr",
     "output_type": "stream",
     "text": [
      "/home/miki/.cache/pypoetry/virtualenvs/net-flow-opt-nxkwTGQf-py3.10/lib/python3.10/site-packages/scipy/optimize/_hessian_update_strategy.py:182: UserWarning: delta_grad == 0.0. Check if the approximated function is linear. If the function is linear better results can be obtained by defining the Hessian as zero instead of using quasi-Newton approximations.\n",
      "  warn('delta_grad == 0.0. Check if the approximated '\n"
     ]
    },
    {
     "name": "stdout",
     "output_type": "stream",
     "text": [
      "    82 |    12300 |     39 |  0.000000E+00 |  0.000000E+00 |  0.0021720475 |             f\n"
     ]
    },
    {
     "name": "stderr",
     "output_type": "stream",
     "text": [
      "/home/miki/.cache/pypoetry/virtualenvs/net-flow-opt-nxkwTGQf-py3.10/lib/python3.10/site-packages/scipy/optimize/_hessian_update_strategy.py:182: UserWarning: delta_grad == 0.0. Check if the approximated function is linear. If the function is linear better results can be obtained by defining the Hessian as zero instead of using quasi-Newton approximations.\n",
      "  warn('delta_grad == 0.0. Check if the approximated '\n"
     ]
    },
    {
     "name": "stdout",
     "output_type": "stream",
     "text": [
      "    83 |    12450 |     40 |  0.000000E+00 |  0.000000E+00 |  0.0029031756 |             f\n"
     ]
    },
    {
     "name": "stderr",
     "output_type": "stream",
     "text": [
      "/home/miki/.cache/pypoetry/virtualenvs/net-flow-opt-nxkwTGQf-py3.10/lib/python3.10/site-packages/scipy/optimize/_hessian_update_strategy.py:182: UserWarning: delta_grad == 0.0. Check if the approximated function is linear. If the function is linear better results can be obtained by defining the Hessian as zero instead of using quasi-Newton approximations.\n",
      "  warn('delta_grad == 0.0. Check if the approximated '\n",
      "/home/miki/.cache/pypoetry/virtualenvs/net-flow-opt-nxkwTGQf-py3.10/lib/python3.10/site-packages/scipy/optimize/_hessian_update_strategy.py:182: UserWarning: delta_grad == 0.0. Check if the approximated function is linear. If the function is linear better results can be obtained by defining the Hessian as zero instead of using quasi-Newton approximations.\n",
      "  warn('delta_grad == 0.0. Check if the approximated '\n"
     ]
    },
    {
     "name": "stdout",
     "output_type": "stream",
     "text": [
      "    84 |    12600 |     40 |  0.000000E+00 |  0.000000E+00 |  0.000000E+00 |             f\n"
     ]
    },
    {
     "name": "stderr",
     "output_type": "stream",
     "text": [
      "/home/miki/.cache/pypoetry/virtualenvs/net-flow-opt-nxkwTGQf-py3.10/lib/python3.10/site-packages/scipy/optimize/_hessian_update_strategy.py:182: UserWarning: delta_grad == 0.0. Check if the approximated function is linear. If the function is linear better results can be obtained by defining the Hessian as zero instead of using quasi-Newton approximations.\n",
      "  warn('delta_grad == 0.0. Check if the approximated '\n"
     ]
    },
    {
     "name": "stdout",
     "output_type": "stream",
     "text": [
      "    85 |    12750 |     41 |  0.000000E+00 |  0.000000E+00 |  2.281199E-11 |             f\n",
      "    86 |    12900 |     43 |  0.000000E+00 |  0.000000E+00 |  0.0004043029 |             f\n"
     ]
    },
    {
     "name": "stderr",
     "output_type": "stream",
     "text": [
      "/home/miki/.cache/pypoetry/virtualenvs/net-flow-opt-nxkwTGQf-py3.10/lib/python3.10/site-packages/scipy/optimize/_hessian_update_strategy.py:182: UserWarning: delta_grad == 0.0. Check if the approximated function is linear. If the function is linear better results can be obtained by defining the Hessian as zero instead of using quasi-Newton approximations.\n",
      "  warn('delta_grad == 0.0. Check if the approximated '\n"
     ]
    },
    {
     "name": "stdout",
     "output_type": "stream",
     "text": [
      "    87 |    13050 |     44 |  0.000000E+00 |  0.000000E+00 |  0.0003951145 |             f\n",
      "    88 |    13200 |     44 |  0.000000E+00 |  0.000000E+00 |  0.0003951147 |             f\n",
      "    89 |    13350 |     44 |  0.000000E+00 |  0.000000E+00 |  0.0003951147 |             f\n",
      "    90 |    13500 |     44 |  0.000000E+00 |  0.000000E+00 |  0.0003951147 |             f\n",
      "    91 |    13650 |     44 |  0.000000E+00 |  0.000000E+00 |  0.0003951151 |             f\n",
      "    92 |    13800 |     44 |  0.000000E+00 |  0.000000E+00 |  0.0003951151 |             f\n"
     ]
    },
    {
     "name": "stderr",
     "output_type": "stream",
     "text": [
      "/home/miki/.cache/pypoetry/virtualenvs/net-flow-opt-nxkwTGQf-py3.10/lib/python3.10/site-packages/scipy/optimize/_hessian_update_strategy.py:182: UserWarning: delta_grad == 0.0. Check if the approximated function is linear. If the function is linear better results can be obtained by defining the Hessian as zero instead of using quasi-Newton approximations.\n",
      "  warn('delta_grad == 0.0. Check if the approximated '\n"
     ]
    },
    {
     "name": "stdout",
     "output_type": "stream",
     "text": [
      "    93 |    13950 |     44 |  0.000000E+00 |  0.000000E+00 |  0.0003951151 |             f\n",
      "    94 |    14100 |     44 |  0.000000E+00 |  0.000000E+00 |  0.0003951156 |             f\n",
      "    95 |    14250 |     43 |  0.000000E+00 |  0.000000E+00 |  0.0019090517 |             f\n",
      "    96 |    14400 |     43 |  0.000000E+00 |  0.000000E+00 |  0.0019090517 |             f\n",
      "    97 |    14550 |     42 |  0.000000E+00 |  0.000000E+00 |  0.0019545054 |             f\n",
      "    98 |    14700 |     42 |  0.000000E+00 |  0.000000E+00 |  0.0019545054 |             f\n",
      "    99 |    14850 |     42 |  0.000000E+00 |  0.000000E+00 |  0.0019545054 |             f\n",
      "   100 |    15000 |     42 |  0.000000E+00 |  0.000000E+00 |  0.0019545054 |             f\n"
     ]
    },
    {
     "name": "stderr",
     "output_type": "stream",
     "text": [
      "/home/miki/.cache/pypoetry/virtualenvs/net-flow-opt-nxkwTGQf-py3.10/lib/python3.10/site-packages/scipy/optimize/_hessian_update_strategy.py:182: UserWarning: delta_grad == 0.0. Check if the approximated function is linear. If the function is linear better results can be obtained by defining the Hessian as zero instead of using quasi-Newton approximations.\n",
      "  warn('delta_grad == 0.0. Check if the approximated '\n"
     ]
    },
    {
     "name": "stdout",
     "output_type": "stream",
     "text": [
      "   101 |    15150 |     42 |  0.000000E+00 |  0.000000E+00 |  0.0019545054 |             f\n",
      "   102 |    15300 |     42 |  0.000000E+00 |  0.000000E+00 |  0.0019545054 |             f\n",
      "   103 |    15450 |     41 |  0.000000E+00 |  0.000000E+00 |  0.0020021760 |             f\n",
      "   104 |    15600 |     41 |  0.000000E+00 |  0.000000E+00 |  0.0020021760 |             f\n",
      "   105 |    15750 |     41 |  0.000000E+00 |  0.000000E+00 |  0.0020021760 |             f\n",
      "   106 |    15900 |     41 |  0.000000E+00 |  0.000000E+00 |  0.0020021760 |             f\n",
      "   107 |    16050 |     41 |  0.000000E+00 |  0.000000E+00 |  0.0020021760 |             f\n",
      "   108 |    16200 |     41 |  0.000000E+00 |  0.000000E+00 |  0.0020021760 |             f\n",
      "   109 |    16350 |     43 |  0.000000E+00 |  0.000000E+00 |  0.0019090515 |             f\n",
      "   110 |    16500 |     43 |  0.000000E+00 |  0.000000E+00 |  0.0019090515 |             f\n",
      "   111 |    16650 |     44 |  0.000000E+00 |  0.000000E+00 |  0.0019955857 |             f\n"
     ]
    },
    {
     "name": "stderr",
     "output_type": "stream",
     "text": [
      "/home/miki/.cache/pypoetry/virtualenvs/net-flow-opt-nxkwTGQf-py3.10/lib/python3.10/site-packages/scipy/optimize/_hessian_update_strategy.py:182: UserWarning: delta_grad == 0.0. Check if the approximated function is linear. If the function is linear better results can be obtained by defining the Hessian as zero instead of using quasi-Newton approximations.\n",
      "  warn('delta_grad == 0.0. Check if the approximated '\n"
     ]
    },
    {
     "name": "stdout",
     "output_type": "stream",
     "text": [
      "   112 |    16800 |     45 |  0.000000E+00 |  0.000000E+00 |  0.0019512405 |             f\n",
      "   113 |    16950 |     45 |  0.000000E+00 |  0.000000E+00 |  0.0019512405 |             f\n",
      "   114 |    17100 |     45 |  0.000000E+00 |  0.000000E+00 |  0.0019512405 |             f\n",
      "   115 |    17250 |     45 |  0.000000E+00 |  0.000000E+00 |  0.0019512405 |             f\n",
      "   116 |    17400 |     45 |  0.000000E+00 |  0.000000E+00 |  0.0019512405 |             f\n",
      "   117 |    17550 |     45 |  0.000000E+00 |  0.000000E+00 |  0.0019512405 |             f\n",
      "   118 |    17700 |     45 |  0.000000E+00 |  0.000000E+00 |  0.0019512405 |             f\n",
      "   119 |    17850 |     45 |  0.000000E+00 |  0.000000E+00 |  0.0019512405 |             f\n",
      "   120 |    18000 |     46 |  0.000000E+00 |  0.000000E+00 |  0.0033154340 |             f\n",
      "   121 |    18150 |     46 |  0.000000E+00 |  0.000000E+00 |  0.000000E+00 |             f\n",
      "   122 |    18300 |     46 |  0.000000E+00 |  0.000000E+00 |  0.000000E+00 |             f\n",
      "   123 |    18450 |     46 |  0.000000E+00 |  0.000000E+00 |  0.000000E+00 |             f\n",
      "   124 |    18600 |     46 |  0.000000E+00 |  0.000000E+00 |  0.000000E+00 |             f\n",
      "   125 |    18750 |     46 |  0.000000E+00 |  0.000000E+00 |  0.000000E+00 |             f\n"
     ]
    },
    {
     "name": "stderr",
     "output_type": "stream",
     "text": [
      "/home/miki/.cache/pypoetry/virtualenvs/net-flow-opt-nxkwTGQf-py3.10/lib/python3.10/site-packages/scipy/optimize/_hessian_update_strategy.py:182: UserWarning: delta_grad == 0.0. Check if the approximated function is linear. If the function is linear better results can be obtained by defining the Hessian as zero instead of using quasi-Newton approximations.\n",
      "  warn('delta_grad == 0.0. Check if the approximated '\n"
     ]
    },
    {
     "name": "stdout",
     "output_type": "stream",
     "text": [
      "   126 |    18900 |     46 |  0.000000E+00 |  0.000000E+00 |  0.000000E+00 |             f\n"
     ]
    },
    {
     "name": "stderr",
     "output_type": "stream",
     "text": [
      "/home/miki/.cache/pypoetry/virtualenvs/net-flow-opt-nxkwTGQf-py3.10/lib/python3.10/site-packages/scipy/optimize/_hessian_update_strategy.py:182: UserWarning: delta_grad == 0.0. Check if the approximated function is linear. If the function is linear better results can be obtained by defining the Hessian as zero instead of using quasi-Newton approximations.\n",
      "  warn('delta_grad == 0.0. Check if the approximated '\n"
     ]
    },
    {
     "name": "stdout",
     "output_type": "stream",
     "text": [
      "   127 |    19050 |     46 |  0.000000E+00 |  0.000000E+00 |  1.185536E-11 |             f\n",
      "   128 |    19200 |     46 |  0.000000E+00 |  0.000000E+00 |  1.185536E-11 |             f\n",
      "   129 |    19350 |     46 |  0.000000E+00 |  0.000000E+00 |  1.185536E-11 |             f\n",
      "   130 |    19500 |     46 |  0.000000E+00 |  0.000000E+00 |  6.443782E-11 |             f\n",
      "   131 |    19650 |     47 |  0.000000E+00 |  0.000000E+00 |  1.440009E-09 |             f\n",
      "   132 |    19800 |     47 |  0.000000E+00 |  0.000000E+00 |  1.440009E-09 |             f\n",
      "   133 |    19950 |     47 |  0.000000E+00 |  0.000000E+00 |  1.440009E-09 |             f\n"
     ]
    },
    {
     "name": "stderr",
     "output_type": "stream",
     "text": [
      "/home/miki/.cache/pypoetry/virtualenvs/net-flow-opt-nxkwTGQf-py3.10/lib/python3.10/site-packages/scipy/optimize/_hessian_update_strategy.py:182: UserWarning: delta_grad == 0.0. Check if the approximated function is linear. If the function is linear better results can be obtained by defining the Hessian as zero instead of using quasi-Newton approximations.\n",
      "  warn('delta_grad == 0.0. Check if the approximated '\n"
     ]
    },
    {
     "name": "stdout",
     "output_type": "stream",
     "text": [
      "   134 |    20100 |     47 |  0.000000E+00 |  0.000000E+00 |  1.440009E-09 |             f\n"
     ]
    },
    {
     "name": "stderr",
     "output_type": "stream",
     "text": [
      "/home/miki/.cache/pypoetry/virtualenvs/net-flow-opt-nxkwTGQf-py3.10/lib/python3.10/site-packages/scipy/optimize/_hessian_update_strategy.py:182: UserWarning: delta_grad == 0.0. Check if the approximated function is linear. If the function is linear better results can be obtained by defining the Hessian as zero instead of using quasi-Newton approximations.\n",
      "  warn('delta_grad == 0.0. Check if the approximated '\n"
     ]
    },
    {
     "name": "stdout",
     "output_type": "stream",
     "text": [
      "   135 |    20250 |     48 |  0.000000E+00 |  0.000000E+00 |  1.567057E-09 |             f\n"
     ]
    },
    {
     "name": "stderr",
     "output_type": "stream",
     "text": [
      "/home/miki/.cache/pypoetry/virtualenvs/net-flow-opt-nxkwTGQf-py3.10/lib/python3.10/site-packages/scipy/optimize/_hessian_update_strategy.py:182: UserWarning: delta_grad == 0.0. Check if the approximated function is linear. If the function is linear better results can be obtained by defining the Hessian as zero instead of using quasi-Newton approximations.\n",
      "  warn('delta_grad == 0.0. Check if the approximated '\n"
     ]
    },
    {
     "name": "stdout",
     "output_type": "stream",
     "text": [
      "   136 |    20400 |     49 |  0.000000E+00 |  0.000000E+00 |  1.547185E-09 |             f\n",
      "   137 |    20550 |     49 |  0.000000E+00 |  0.000000E+00 |  1.547185E-09 |             f\n",
      "   138 |    20700 |     48 |  0.000000E+00 |  0.000000E+00 |  1.766676E-09 |             f\n"
     ]
    },
    {
     "name": "stderr",
     "output_type": "stream",
     "text": [
      "/home/miki/.cache/pypoetry/virtualenvs/net-flow-opt-nxkwTGQf-py3.10/lib/python3.10/site-packages/scipy/optimize/_hessian_update_strategy.py:182: UserWarning: delta_grad == 0.0. Check if the approximated function is linear. If the function is linear better results can be obtained by defining the Hessian as zero instead of using quasi-Newton approximations.\n",
      "  warn('delta_grad == 0.0. Check if the approximated '\n"
     ]
    },
    {
     "name": "stdout",
     "output_type": "stream",
     "text": [
      "   139 |    20850 |     49 |  0.000000E+00 |  0.000000E+00 |  3.034365E-09 |             f\n",
      "   140 |    21000 |     49 |  0.000000E+00 |  0.000000E+00 |  3.034365E-09 |             f\n",
      "   141 |    21150 |     49 |  0.000000E+00 |  0.000000E+00 |  3.034365E-09 |             f\n"
     ]
    },
    {
     "name": "stderr",
     "output_type": "stream",
     "text": [
      "/home/miki/.cache/pypoetry/virtualenvs/net-flow-opt-nxkwTGQf-py3.10/lib/python3.10/site-packages/scipy/optimize/_hessian_update_strategy.py:182: UserWarning: delta_grad == 0.0. Check if the approximated function is linear. If the function is linear better results can be obtained by defining the Hessian as zero instead of using quasi-Newton approximations.\n",
      "  warn('delta_grad == 0.0. Check if the approximated '\n",
      "/home/miki/.cache/pypoetry/virtualenvs/net-flow-opt-nxkwTGQf-py3.10/lib/python3.10/site-packages/scipy/optimize/_hessian_update_strategy.py:182: UserWarning: delta_grad == 0.0. Check if the approximated function is linear. If the function is linear better results can be obtained by defining the Hessian as zero instead of using quasi-Newton approximations.\n",
      "  warn('delta_grad == 0.0. Check if the approximated '\n"
     ]
    },
    {
     "name": "stdout",
     "output_type": "stream",
     "text": [
      "   142 |    21300 |     49 |  0.000000E+00 |  0.000000E+00 |  3.059742E-09 |             f\n"
     ]
    },
    {
     "name": "stderr",
     "output_type": "stream",
     "text": [
      "/home/miki/.cache/pypoetry/virtualenvs/net-flow-opt-nxkwTGQf-py3.10/lib/python3.10/site-packages/scipy/optimize/_hessian_update_strategy.py:182: UserWarning: delta_grad == 0.0. Check if the approximated function is linear. If the function is linear better results can be obtained by defining the Hessian as zero instead of using quasi-Newton approximations.\n",
      "  warn('delta_grad == 0.0. Check if the approximated '\n"
     ]
    },
    {
     "name": "stdout",
     "output_type": "stream",
     "text": [
      "   143 |    21450 |     49 |  0.000000E+00 |  0.000000E+00 |  3.059742E-09 |             f\n",
      "   144 |    21600 |     49 |  0.000000E+00 |  0.000000E+00 |  3.059742E-09 |             f\n"
     ]
    },
    {
     "name": "stderr",
     "output_type": "stream",
     "text": [
      "/home/miki/.cache/pypoetry/virtualenvs/net-flow-opt-nxkwTGQf-py3.10/lib/python3.10/site-packages/scipy/optimize/_hessian_update_strategy.py:182: UserWarning: delta_grad == 0.0. Check if the approximated function is linear. If the function is linear better results can be obtained by defining the Hessian as zero instead of using quasi-Newton approximations.\n",
      "  warn('delta_grad == 0.0. Check if the approximated '\n"
     ]
    },
    {
     "name": "stdout",
     "output_type": "stream",
     "text": [
      "   145 |    21750 |     49 |  0.000000E+00 |  0.000000E+00 |  3.059742E-09 |             f\n",
      "   146 |    21900 |     50 |  0.000000E+00 |  0.000000E+00 |  3.028122E-09 |             f\n",
      "   147 |    22050 |     50 |  0.000000E+00 |  0.000000E+00 |  3.028122E-09 |             f\n",
      "   148 |    22200 |     50 |  0.000000E+00 |  0.000000E+00 |  3.028122E-09 |             f\n",
      "   149 |    22350 |     50 |  0.000000E+00 |  0.000000E+00 |  3.028122E-09 |             f\n",
      "   150 |    22500 |     50 |  0.000000E+00 |  0.000000E+00 |  3.028122E-09 |             f\n",
      "   151 |    22650 |     50 |  0.000000E+00 |  0.000000E+00 |  3.028122E-09 |             f\n",
      "   152 |    22800 |     50 |  0.000000E+00 |  0.000000E+00 |  3.028122E-09 |             f\n",
      "   153 |    22950 |     50 |  0.000000E+00 |  0.000000E+00 |  3.028122E-09 |             f\n"
     ]
    },
    {
     "name": "stderr",
     "output_type": "stream",
     "text": [
      "/home/miki/.cache/pypoetry/virtualenvs/net-flow-opt-nxkwTGQf-py3.10/lib/python3.10/site-packages/scipy/optimize/_hessian_update_strategy.py:182: UserWarning: delta_grad == 0.0. Check if the approximated function is linear. If the function is linear better results can be obtained by defining the Hessian as zero instead of using quasi-Newton approximations.\n",
      "  warn('delta_grad == 0.0. Check if the approximated '\n"
     ]
    },
    {
     "name": "stdout",
     "output_type": "stream",
     "text": [
      "   154 |    23100 |     50 |  0.000000E+00 |  0.000000E+00 |  3.028122E-09 |             f\n",
      "   155 |    23250 |     50 |  0.000000E+00 |  0.000000E+00 |  3.028122E-09 |             f\n"
     ]
    },
    {
     "name": "stderr",
     "output_type": "stream",
     "text": [
      "/home/miki/.cache/pypoetry/virtualenvs/net-flow-opt-nxkwTGQf-py3.10/lib/python3.10/site-packages/scipy/optimize/_hessian_update_strategy.py:182: UserWarning: delta_grad == 0.0. Check if the approximated function is linear. If the function is linear better results can be obtained by defining the Hessian as zero instead of using quasi-Newton approximations.\n",
      "  warn('delta_grad == 0.0. Check if the approximated '\n",
      "/home/miki/.cache/pypoetry/virtualenvs/net-flow-opt-nxkwTGQf-py3.10/lib/python3.10/site-packages/scipy/optimize/_hessian_update_strategy.py:182: UserWarning: delta_grad == 0.0. Check if the approximated function is linear. If the function is linear better results can be obtained by defining the Hessian as zero instead of using quasi-Newton approximations.\n",
      "  warn('delta_grad == 0.0. Check if the approximated '\n"
     ]
    },
    {
     "name": "stdout",
     "output_type": "stream",
     "text": [
      "   156 |    23400 |     51 |  0.000000E+00 |  0.000000E+00 |  0.0001966809 |             f\n"
     ]
    },
    {
     "name": "stderr",
     "output_type": "stream",
     "text": [
      "/home/miki/.cache/pypoetry/virtualenvs/net-flow-opt-nxkwTGQf-py3.10/lib/python3.10/site-packages/scipy/optimize/_hessian_update_strategy.py:182: UserWarning: delta_grad == 0.0. Check if the approximated function is linear. If the function is linear better results can be obtained by defining the Hessian as zero instead of using quasi-Newton approximations.\n",
      "  warn('delta_grad == 0.0. Check if the approximated '\n"
     ]
    },
    {
     "name": "stdout",
     "output_type": "stream",
     "text": [
      "   157 |    23550 |     52 |  0.000000E+00 |  0.000000E+00 |  0.0001928988 |             f\n"
     ]
    },
    {
     "name": "stderr",
     "output_type": "stream",
     "text": [
      "/home/miki/.cache/pypoetry/virtualenvs/net-flow-opt-nxkwTGQf-py3.10/lib/python3.10/site-packages/scipy/optimize/_hessian_update_strategy.py:182: UserWarning: delta_grad == 0.0. Check if the approximated function is linear. If the function is linear better results can be obtained by defining the Hessian as zero instead of using quasi-Newton approximations.\n",
      "  warn('delta_grad == 0.0. Check if the approximated '\n",
      "/home/miki/.cache/pypoetry/virtualenvs/net-flow-opt-nxkwTGQf-py3.10/lib/python3.10/site-packages/scipy/optimize/_hessian_update_strategy.py:182: UserWarning: delta_grad == 0.0. Check if the approximated function is linear. If the function is linear better results can be obtained by defining the Hessian as zero instead of using quasi-Newton approximations.\n",
      "  warn('delta_grad == 0.0. Check if the approximated '\n"
     ]
    },
    {
     "name": "stdout",
     "output_type": "stream",
     "text": [
      "   158 |    23700 |     53 |  0.000000E+00 |  0.000000E+00 |  0.0007660330 |             f\n",
      "   159 |    23850 |     54 |  0.000000E+00 |  0.000000E+00 |  0.0007518472 |             f\n"
     ]
    },
    {
     "name": "stderr",
     "output_type": "stream",
     "text": [
      "/home/miki/.cache/pypoetry/virtualenvs/net-flow-opt-nxkwTGQf-py3.10/lib/python3.10/site-packages/scipy/optimize/_hessian_update_strategy.py:182: UserWarning: delta_grad == 0.0. Check if the approximated function is linear. If the function is linear better results can be obtained by defining the Hessian as zero instead of using quasi-Newton approximations.\n",
      "  warn('delta_grad == 0.0. Check if the approximated '\n"
     ]
    },
    {
     "name": "stdout",
     "output_type": "stream",
     "text": [
      "   160 |    24000 |     52 |  0.000000E+00 |  0.000000E+00 |  0.0007807646 |             f\n",
      "   161 |    24150 |     52 |  0.000000E+00 |  0.000000E+00 |  0.0007807646 |             f\n",
      "   162 |    24300 |     52 |  0.000000E+00 |  0.000000E+00 |  0.0007807647 |             f\n"
     ]
    },
    {
     "name": "stderr",
     "output_type": "stream",
     "text": [
      "/home/miki/.cache/pypoetry/virtualenvs/net-flow-opt-nxkwTGQf-py3.10/lib/python3.10/site-packages/scipy/optimize/_hessian_update_strategy.py:182: UserWarning: delta_grad == 0.0. Check if the approximated function is linear. If the function is linear better results can be obtained by defining the Hessian as zero instead of using quasi-Newton approximations.\n",
      "  warn('delta_grad == 0.0. Check if the approximated '\n",
      "/home/miki/.cache/pypoetry/virtualenvs/net-flow-opt-nxkwTGQf-py3.10/lib/python3.10/site-packages/scipy/optimize/_hessian_update_strategy.py:182: UserWarning: delta_grad == 0.0. Check if the approximated function is linear. If the function is linear better results can be obtained by defining the Hessian as zero instead of using quasi-Newton approximations.\n",
      "  warn('delta_grad == 0.0. Check if the approximated '\n"
     ]
    },
    {
     "name": "stdout",
     "output_type": "stream",
     "text": [
      "   163 |    24450 |     52 |  0.000000E+00 |  0.000000E+00 |  0.0007807647 |             f\n"
     ]
    },
    {
     "name": "stderr",
     "output_type": "stream",
     "text": [
      "/home/miki/.cache/pypoetry/virtualenvs/net-flow-opt-nxkwTGQf-py3.10/lib/python3.10/site-packages/scipy/optimize/_hessian_update_strategy.py:182: UserWarning: delta_grad == 0.0. Check if the approximated function is linear. If the function is linear better results can be obtained by defining the Hessian as zero instead of using quasi-Newton approximations.\n",
      "  warn('delta_grad == 0.0. Check if the approximated '\n"
     ]
    },
    {
     "name": "stdout",
     "output_type": "stream",
     "text": [
      "   164 |    24600 |     53 |  0.000000E+00 |  0.000000E+00 |  0.0007660350 |             f\n",
      "   165 |    24750 |     53 |  0.000000E+00 |  0.000000E+00 |  0.0007660352 |             f\n"
     ]
    },
    {
     "name": "stderr",
     "output_type": "stream",
     "text": [
      "/home/miki/.cache/pypoetry/virtualenvs/net-flow-opt-nxkwTGQf-py3.10/lib/python3.10/site-packages/scipy/optimize/_hessian_update_strategy.py:182: UserWarning: delta_grad == 0.0. Check if the approximated function is linear. If the function is linear better results can be obtained by defining the Hessian as zero instead of using quasi-Newton approximations.\n",
      "  warn('delta_grad == 0.0. Check if the approximated '\n"
     ]
    },
    {
     "name": "stdout",
     "output_type": "stream",
     "text": [
      "   166 |    24900 |     53 |  0.000000E+00 |  0.000000E+00 |  0.0007660352 |             f\n",
      "   167 |    25050 |     53 |  0.000000E+00 |  0.000000E+00 |  0.0007660352 |             f\n"
     ]
    },
    {
     "name": "stderr",
     "output_type": "stream",
     "text": [
      "/home/miki/.cache/pypoetry/virtualenvs/net-flow-opt-nxkwTGQf-py3.10/lib/python3.10/site-packages/scipy/optimize/_hessian_update_strategy.py:182: UserWarning: delta_grad == 0.0. Check if the approximated function is linear. If the function is linear better results can be obtained by defining the Hessian as zero instead of using quasi-Newton approximations.\n",
      "  warn('delta_grad == 0.0. Check if the approximated '\n"
     ]
    },
    {
     "name": "stdout",
     "output_type": "stream",
     "text": [
      "   168 |    25200 |     53 |  0.000000E+00 |  0.000000E+00 |  0.0007660352 |             f\n",
      "   169 |    25350 |     53 |  0.000000E+00 |  0.000000E+00 |  0.0007660352 |             f\n",
      "   170 |    25500 |     53 |  0.000000E+00 |  0.000000E+00 |  0.0007660352 |             f\n",
      "   171 |    25650 |     53 |  0.000000E+00 |  0.000000E+00 |  0.0007660352 |             f\n"
     ]
    },
    {
     "name": "stderr",
     "output_type": "stream",
     "text": [
      "/home/miki/.cache/pypoetry/virtualenvs/net-flow-opt-nxkwTGQf-py3.10/lib/python3.10/site-packages/scipy/optimize/_hessian_update_strategy.py:182: UserWarning: delta_grad == 0.0. Check if the approximated function is linear. If the function is linear better results can be obtained by defining the Hessian as zero instead of using quasi-Newton approximations.\n",
      "  warn('delta_grad == 0.0. Check if the approximated '\n",
      "/home/miki/.cache/pypoetry/virtualenvs/net-flow-opt-nxkwTGQf-py3.10/lib/python3.10/site-packages/scipy/optimize/_hessian_update_strategy.py:182: UserWarning: delta_grad == 0.0. Check if the approximated function is linear. If the function is linear better results can be obtained by defining the Hessian as zero instead of using quasi-Newton approximations.\n",
      "  warn('delta_grad == 0.0. Check if the approximated '\n"
     ]
    },
    {
     "name": "stdout",
     "output_type": "stream",
     "text": [
      "   172 |    25800 |     53 |  0.000000E+00 |  0.000000E+00 |  0.0007660352 |             f\n",
      "   173 |    25950 |     51 |  0.000000E+00 |  0.000000E+00 |  0.0007960760 |             f\n",
      "   174 |    26100 |     51 |  0.000000E+00 |  0.000000E+00 |  0.0007960760 |             f\n"
     ]
    },
    {
     "name": "stderr",
     "output_type": "stream",
     "text": [
      "/home/miki/.cache/pypoetry/virtualenvs/net-flow-opt-nxkwTGQf-py3.10/lib/python3.10/site-packages/scipy/optimize/_hessian_update_strategy.py:182: UserWarning: delta_grad == 0.0. Check if the approximated function is linear. If the function is linear better results can be obtained by defining the Hessian as zero instead of using quasi-Newton approximations.\n",
      "  warn('delta_grad == 0.0. Check if the approximated '\n"
     ]
    },
    {
     "name": "stdout",
     "output_type": "stream",
     "text": [
      "   175 |    26250 |     51 |  0.000000E+00 |  0.000000E+00 |  0.0007960760 |             f\n",
      "   176 |    26400 |     51 |  0.000000E+00 |  0.000000E+00 |  0.0007960760 |             f\n",
      "   177 |    26550 |     51 |  0.000000E+00 |  0.000000E+00 |  0.0007960760 |             f\n",
      "   178 |    26700 |     51 |  0.000000E+00 |  0.000000E+00 |  0.0007960760 |             f\n"
     ]
    },
    {
     "name": "stderr",
     "output_type": "stream",
     "text": [
      "/home/miki/.cache/pypoetry/virtualenvs/net-flow-opt-nxkwTGQf-py3.10/lib/python3.10/site-packages/scipy/optimize/_hessian_update_strategy.py:182: UserWarning: delta_grad == 0.0. Check if the approximated function is linear. If the function is linear better results can be obtained by defining the Hessian as zero instead of using quasi-Newton approximations.\n",
      "  warn('delta_grad == 0.0. Check if the approximated '\n"
     ]
    },
    {
     "name": "stdout",
     "output_type": "stream",
     "text": [
      "   179 |    26850 |     51 |  0.000000E+00 |  0.000000E+00 |  0.0007960760 |             f\n",
      "   180 |    27000 |     51 |  0.000000E+00 |  0.000000E+00 |  0.0007960760 |             f\n",
      "   181 |    27150 |     51 |  0.000000E+00 |  0.000000E+00 |  0.0007960760 |             f\n",
      "   182 |    27300 |     51 |  0.000000E+00 |  0.000000E+00 |  0.0007960760 |             f\n",
      "   183 |    27450 |     51 |  0.000000E+00 |  0.000000E+00 |  0.0007960760 |             f\n",
      "   184 |    27600 |     51 |  0.000000E+00 |  0.000000E+00 |  0.0007960760 |             f\n"
     ]
    },
    {
     "name": "stderr",
     "output_type": "stream",
     "text": [
      "/home/miki/.cache/pypoetry/virtualenvs/net-flow-opt-nxkwTGQf-py3.10/lib/python3.10/site-packages/scipy/optimize/_hessian_update_strategy.py:182: UserWarning: delta_grad == 0.0. Check if the approximated function is linear. If the function is linear better results can be obtained by defining the Hessian as zero instead of using quasi-Newton approximations.\n",
      "  warn('delta_grad == 0.0. Check if the approximated '\n"
     ]
    },
    {
     "name": "stdout",
     "output_type": "stream",
     "text": [
      "   185 |    27750 |     51 |  0.000000E+00 |  0.000000E+00 |  0.0007960760 |             f\n",
      "   186 |    27900 |     52 |  0.000000E+00 |  0.000000E+00 |  0.0007807683 |             f\n",
      "   187 |    28050 |     52 |  0.000000E+00 |  0.000000E+00 |  0.0007807683 |             f\n"
     ]
    },
    {
     "name": "stderr",
     "output_type": "stream",
     "text": [
      "/home/miki/.cache/pypoetry/virtualenvs/net-flow-opt-nxkwTGQf-py3.10/lib/python3.10/site-packages/scipy/optimize/_hessian_update_strategy.py:182: UserWarning: delta_grad == 0.0. Check if the approximated function is linear. If the function is linear better results can be obtained by defining the Hessian as zero instead of using quasi-Newton approximations.\n",
      "  warn('delta_grad == 0.0. Check if the approximated '\n"
     ]
    },
    {
     "name": "stdout",
     "output_type": "stream",
     "text": [
      "   188 |    28200 |     53 |  0.000000E+00 |  0.000000E+00 |  0.0007660368 |             f\n",
      "   189 |    28350 |     53 |  0.000000E+00 |  0.000000E+00 |  0.0007660368 |             f\n",
      "   190 |    28500 |     54 |  0.000000E+00 |  0.000000E+00 |  0.0009376022 |             f\n",
      "   191 |    28650 |     54 |  0.000000E+00 |  0.000000E+00 |  0.0009376022 |             f\n"
     ]
    },
    {
     "name": "stderr",
     "output_type": "stream",
     "text": [
      "/home/miki/.cache/pypoetry/virtualenvs/net-flow-opt-nxkwTGQf-py3.10/lib/python3.10/site-packages/scipy/optimize/_hessian_update_strategy.py:182: UserWarning: delta_grad == 0.0. Check if the approximated function is linear. If the function is linear better results can be obtained by defining the Hessian as zero instead of using quasi-Newton approximations.\n",
      "  warn('delta_grad == 0.0. Check if the approximated '\n"
     ]
    },
    {
     "name": "stdout",
     "output_type": "stream",
     "text": [
      "   192 |    28800 |     55 |  0.000000E+00 |  0.000000E+00 |  0.0009205550 |             f\n",
      "   193 |    28950 |     55 |  0.000000E+00 |  0.000000E+00 |  0.0009205550 |             f\n",
      "   194 |    29100 |     55 |  0.000000E+00 |  0.000000E+00 |  0.0009205550 |             f\n",
      "   195 |    29250 |     55 |  0.000000E+00 |  0.000000E+00 |  0.0009205550 |             f\n",
      "   196 |    29400 |     56 |  0.000000E+00 |  0.000000E+00 |  0.0014499918 |             f\n",
      "   197 |    29550 |     56 |  0.000000E+00 |  0.000000E+00 |  0.0014499918 |             f\n",
      "   198 |    29700 |     56 |  0.000000E+00 |  0.000000E+00 |  0.0014499918 |             f\n",
      "   199 |    29850 |     56 |  0.000000E+00 |  0.000000E+00 |  0.0014499918 |             f\n",
      "   200 |    30000 |     56 |  0.000000E+00 |  0.000000E+00 |  0.0014499918 |             f\n"
     ]
    }
   ],
   "source": [
    "res = minimize(\n",
    "    problem=problem,\n",
    "    algorithm=algorithm,\n",
    "    termination=termination,\n",
    "    seed=seed,\n",
    "    verbose=True,\n",
    ")"
   ]
  },
  {
   "cell_type": "code",
   "execution_count": 5,
   "metadata": {},
   "outputs": [
    {
     "data": {
      "text/plain": [
       "<pymoo.visualization.scatter.Scatter at 0x7f5c4f958310>"
      ]
     },
     "execution_count": 5,
     "metadata": {},
     "output_type": "execute_result"
    },
    {
     "data": {
      "image/png": "[encoded data removed]",
      "text/plain": [
       "<Figure size 800x600 with 1 Axes>"
      ]
     },
     "metadata": {},
     "output_type": "display_data"
    }
   ],
   "source": [
    "F = res.opt.get(\"F\")\n",
    "plot = Scatter(\n",
    "    title=\"Continuous model Pareto front\",\n",
    "    labels=['IC', 'FL']\n",
    ")\n",
    "plot.add(F)\n",
    "plot.show()"
   ]
  }
 ],
 "metadata": {
  "kernelspec": {
   "display_name": "net-flow-opt-nxkwTGQf-py3.10",
   "language": "python",
   "name": "python3"
  },
  "language_info": {
   "codemirror_mode": {
    "name": "ipython",
    "version": 3
   },
   "file_extension": ".py",
   "mimetype": "text/x-python",
   "name": "python",
   "nbconvert_exporter": "python",
   "pygments_lexer": "ipython3",
   "version": "3.10.12"
  },
  "orig_nbformat": 4
 },
 "nbformat": 4,
 "nbformat_minor": 2
}
