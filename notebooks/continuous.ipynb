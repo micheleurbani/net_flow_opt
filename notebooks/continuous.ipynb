{
 "cells": [
  {
   "cell_type": "code",
   "execution_count": 1,
   "metadata": {},
   "outputs": [],
   "source": [
    "import os\n",
    "import sys\n",
    "module_path = os.path.abspath(os.path.join('..'))\n",
    "if module_path not in sys.path:\n",
    "    sys.path.append(module_path)\n",
    "\n",
    "from pymoo.algorithms.moo.nsga2 import NSGA2\n",
    "from pymoo.optimize import minimize\n",
    "\n",
    "from net_flow_opt.utils import components, structure, activities_duration\n",
    "from net_flow_opt.system import System\n",
    "from net_flow_opt.scheduler import  Plan, Activity\n",
    "from net_flow_opt.continuous_model import ContinuousModel\n"
   ]
  },
  {
   "cell_type": "markdown",
   "metadata": {},
   "source": [
    "Main parameters of the experiment are declared here."
   ]
  },
  {
   "cell_type": "code",
   "execution_count": 2,
   "metadata": {},
   "outputs": [],
   "source": [
    "pop_size = 150\n",
    "termination = ('n_gen', 20)\n",
    "seed = 1124"
   ]
  },
  {
   "cell_type": "markdown",
   "metadata": {},
   "source": [
    "The cells below repeat the experiment with a different number of resources."
   ]
  },
  {
   "cell_type": "code",
   "execution_count": 3,
   "metadata": {},
   "outputs": [
    {
     "ename": "TypeError",
     "evalue": "Plan.__init__() missing 1 required positional argument: 'activities'",
     "output_type": "error",
     "traceback": [
      "\u001b[0;31m---------------------------------------------------------------------------\u001b[0m",
      "\u001b[0;31mTypeError\u001b[0m                                 Traceback (most recent call last)",
      "Cell \u001b[0;32mIn[3], line 12\u001b[0m\n\u001b[1;32m      5\u001b[0m dates \u001b[39m=\u001b[39m [c\u001b[39m.\u001b[39mx_star \u001b[39mfor\u001b[39;00m c \u001b[39min\u001b[39;00m components]\n\u001b[1;32m      7\u001b[0m original_activities \u001b[39m=\u001b[39m [\n\u001b[1;32m      8\u001b[0m     Activity(component, date, duration)\n\u001b[1;32m      9\u001b[0m     \u001b[39mfor\u001b[39;00m component, date, duration \u001b[39min\u001b[39;00m \u001b[39mzip\u001b[39m(system\u001b[39m.\u001b[39mcomponents, dates, activities_duration)\n\u001b[1;32m     10\u001b[0m ]\n\u001b[0;32m---> 12\u001b[0m original_plan \u001b[39m=\u001b[39m Plan(\n\u001b[1;32m     13\u001b[0m     system\u001b[39m=\u001b[39;49msystem,\n\u001b[1;32m     14\u001b[0m )\n\u001b[1;32m     16\u001b[0m problem \u001b[39m=\u001b[39m ContinuousModel(\n\u001b[1;32m     17\u001b[0m     system\u001b[39m=\u001b[39msystem,\n\u001b[1;32m     18\u001b[0m     original_plan\u001b[39m=\u001b[39moriginal_plan,\n\u001b[1;32m     19\u001b[0m     resources\u001b[39m=\u001b[39mresources,\n\u001b[1;32m     20\u001b[0m )\n\u001b[1;32m     22\u001b[0m algorithm \u001b[39m=\u001b[39m NSGA2(\n\u001b[1;32m     23\u001b[0m     pop_size\u001b[39m=\u001b[39mpop_size,\n\u001b[1;32m     24\u001b[0m     eliminate_duplicates\u001b[39m=\u001b[39m\u001b[39mTrue\u001b[39;00m,\n\u001b[1;32m     25\u001b[0m )\n",
      "\u001b[0;31mTypeError\u001b[0m: Plan.__init__() missing 1 required positional argument: 'activities'"
     ]
    }
   ],
   "source": [
    "resources = 3\n",
    "\n",
    "system = System(structure, resources, components)\n",
    "\n",
    "dates = [c.x_star for c in components]\n",
    "\n",
    "original_activities = [\n",
    "    Activity(component, date, duration)\n",
    "    for component, date, duration in zip(system.components, dates, activities_duration)\n",
    "]\n",
    "\n",
    "original_plan = Plan(\n",
    "    system=system,\n",
    "    activities=original_activities\n",
    ")\n",
    "\n",
    "problem = ContinuousModel(\n",
    "    system=system,\n",
    "    original_plan=original_plan,\n",
    "    resources=resources,\n",
    ")\n",
    "\n",
    "algorithm = NSGA2(\n",
    "    pop_size=pop_size,\n",
    "    eliminate_duplicates=True,\n",
    ")"
   ]
  },
  {
   "cell_type": "markdown",
   "metadata": {},
   "source": [
    "Run the experiment using the number of iterations to stop the algorithm."
   ]
  },
  {
   "cell_type": "code",
   "execution_count": null,
   "metadata": {},
   "outputs": [
    {
     "ename": "AttributeError",
     "evalue": "'list' object has no attribute 'activities'",
     "output_type": "error",
     "traceback": [
      "\u001b[0;31m---------------------------------------------------------------------------\u001b[0m",
      "\u001b[0;31mAttributeError\u001b[0m                            Traceback (most recent call last)",
      "Cell \u001b[0;32mIn[4], line 1\u001b[0m\n\u001b[0;32m----> 1\u001b[0m res \u001b[39m=\u001b[39m minimize(\n\u001b[1;32m      2\u001b[0m     problem\u001b[39m=\u001b[39;49mproblem,\n\u001b[1;32m      3\u001b[0m     algorithm\u001b[39m=\u001b[39;49malgorithm,\n\u001b[1;32m      4\u001b[0m     termination\u001b[39m=\u001b[39;49mtermination,\n\u001b[1;32m      5\u001b[0m     seed\u001b[39m=\u001b[39;49mseed\n\u001b[1;32m      6\u001b[0m )\n",
      "File \u001b[0;32m~/.cache/pypoetry/virtualenvs/net-flow-opt-nxkwTGQf-py3.10/lib/python3.10/site-packages/pymoo/optimize.py:67\u001b[0m, in \u001b[0;36mminimize\u001b[0;34m(problem, algorithm, termination, copy_algorithm, copy_termination, **kwargs)\u001b[0m\n\u001b[1;32m     64\u001b[0m     algorithm\u001b[39m.\u001b[39msetup(problem, \u001b[39m*\u001b[39m\u001b[39m*\u001b[39mkwargs)\n\u001b[1;32m     66\u001b[0m \u001b[39m# actually execute the algorithm\u001b[39;00m\n\u001b[0;32m---> 67\u001b[0m res \u001b[39m=\u001b[39m algorithm\u001b[39m.\u001b[39;49mrun()\n\u001b[1;32m     69\u001b[0m \u001b[39m# store the deep copied algorithm in the result object\u001b[39;00m\n\u001b[1;32m     70\u001b[0m res\u001b[39m.\u001b[39malgorithm \u001b[39m=\u001b[39m algorithm\n",
      "File \u001b[0;32m~/.cache/pypoetry/virtualenvs/net-flow-opt-nxkwTGQf-py3.10/lib/python3.10/site-packages/pymoo/core/algorithm.py:141\u001b[0m, in \u001b[0;36mAlgorithm.run\u001b[0;34m(self)\u001b[0m\n\u001b[1;32m    139\u001b[0m \u001b[39mdef\u001b[39;00m \u001b[39mrun\u001b[39m(\u001b[39mself\u001b[39m):\n\u001b[1;32m    140\u001b[0m     \u001b[39mwhile\u001b[39;00m \u001b[39mself\u001b[39m\u001b[39m.\u001b[39mhas_next():\n\u001b[0;32m--> 141\u001b[0m         \u001b[39mself\u001b[39;49m\u001b[39m.\u001b[39;49mnext()\n\u001b[1;32m    142\u001b[0m     \u001b[39mreturn\u001b[39;00m \u001b[39mself\u001b[39m\u001b[39m.\u001b[39mresult()\n",
      "File \u001b[0;32m~/.cache/pypoetry/virtualenvs/net-flow-opt-nxkwTGQf-py3.10/lib/python3.10/site-packages/pymoo/core/algorithm.py:161\u001b[0m, in \u001b[0;36mAlgorithm.next\u001b[0;34m(self)\u001b[0m\n\u001b[1;32m    159\u001b[0m \u001b[39m# call the advance with them after evaluation\u001b[39;00m\n\u001b[1;32m    160\u001b[0m \u001b[39mif\u001b[39;00m infills \u001b[39mis\u001b[39;00m \u001b[39mnot\u001b[39;00m \u001b[39mNone\u001b[39;00m:\n\u001b[0;32m--> 161\u001b[0m     \u001b[39mself\u001b[39;49m\u001b[39m.\u001b[39;49mevaluator\u001b[39m.\u001b[39;49meval(\u001b[39mself\u001b[39;49m\u001b[39m.\u001b[39;49mproblem, infills, algorithm\u001b[39m=\u001b[39;49m\u001b[39mself\u001b[39;49m)\n\u001b[1;32m    162\u001b[0m     \u001b[39mself\u001b[39m\u001b[39m.\u001b[39madvance(infills\u001b[39m=\u001b[39minfills)\n\u001b[1;32m    164\u001b[0m \u001b[39m# if the algorithm does not follow the infill-advance scheme just call advance\u001b[39;00m\n\u001b[1;32m    165\u001b[0m \u001b[39melse\u001b[39;00m:\n",
      "File \u001b[0;32m~/.cache/pypoetry/virtualenvs/net-flow-opt-nxkwTGQf-py3.10/lib/python3.10/site-packages/pymoo/core/evaluator.py:69\u001b[0m, in \u001b[0;36mEvaluator.eval\u001b[0;34m(self, problem, pop, skip_already_evaluated, evaluate_values_of, count_evals, **kwargs)\u001b[0m\n\u001b[1;32m     65\u001b[0m \u001b[39m# evaluate the solutions (if there are any)\u001b[39;00m\n\u001b[1;32m     66\u001b[0m \u001b[39mif\u001b[39;00m \u001b[39mlen\u001b[39m(I) \u001b[39m>\u001b[39m \u001b[39m0\u001b[39m:\n\u001b[1;32m     67\u001b[0m \n\u001b[1;32m     68\u001b[0m     \u001b[39m# do the actual evaluation - call the sub-function to set the corresponding values to the population\u001b[39;00m\n\u001b[0;32m---> 69\u001b[0m     \u001b[39mself\u001b[39;49m\u001b[39m.\u001b[39;49m_eval(problem, pop[I], evaluate_values_of, \u001b[39m*\u001b[39;49m\u001b[39m*\u001b[39;49mkwargs)\n\u001b[1;32m     71\u001b[0m \u001b[39m# update the function evaluation counter\u001b[39;00m\n\u001b[1;32m     72\u001b[0m \u001b[39mif\u001b[39;00m count_evals:\n",
      "File \u001b[0;32m~/.cache/pypoetry/virtualenvs/net-flow-opt-nxkwTGQf-py3.10/lib/python3.10/site-packages/pymoo/core/evaluator.py:90\u001b[0m, in \u001b[0;36mEvaluator._eval\u001b[0;34m(self, problem, pop, evaluate_values_of, **kwargs)\u001b[0m\n\u001b[1;32m     87\u001b[0m X \u001b[39m=\u001b[39m pop\u001b[39m.\u001b[39mget(\u001b[39m\"\u001b[39m\u001b[39mX\u001b[39m\u001b[39m\"\u001b[39m)\n\u001b[1;32m     89\u001b[0m \u001b[39m# call the problem to evaluate the solutions\u001b[39;00m\n\u001b[0;32m---> 90\u001b[0m out \u001b[39m=\u001b[39m problem\u001b[39m.\u001b[39;49mevaluate(X, return_values_of\u001b[39m=\u001b[39;49mevaluate_values_of, return_as_dictionary\u001b[39m=\u001b[39;49m\u001b[39mTrue\u001b[39;49;00m, \u001b[39m*\u001b[39;49m\u001b[39m*\u001b[39;49mkwargs)\n\u001b[1;32m     92\u001b[0m \u001b[39m# for each of the attributes set it to the problem\u001b[39;00m\n\u001b[1;32m     93\u001b[0m \u001b[39mfor\u001b[39;00m key, val \u001b[39min\u001b[39;00m out\u001b[39m.\u001b[39mitems():\n",
      "File \u001b[0;32m~/.cache/pypoetry/virtualenvs/net-flow-opt-nxkwTGQf-py3.10/lib/python3.10/site-packages/pymoo/core/problem.py:187\u001b[0m, in \u001b[0;36mProblem.evaluate\u001b[0;34m(self, X, return_values_of, return_as_dictionary, *args, **kwargs)\u001b[0m\n\u001b[1;32m    184\u001b[0m     only_single_value \u001b[39m=\u001b[39m \u001b[39mnot\u001b[39;00m (\u001b[39misinstance\u001b[39m(X, \u001b[39mlist\u001b[39m) \u001b[39mor\u001b[39;00m \u001b[39misinstance\u001b[39m(X, np\u001b[39m.\u001b[39mndarray))\n\u001b[1;32m    186\u001b[0m \u001b[39m# this is where the actual evaluation takes place\u001b[39;00m\n\u001b[0;32m--> 187\u001b[0m _out \u001b[39m=\u001b[39m \u001b[39mself\u001b[39;49m\u001b[39m.\u001b[39;49mdo(X, return_values_of, \u001b[39m*\u001b[39;49margs, \u001b[39m*\u001b[39;49m\u001b[39m*\u001b[39;49mkwargs)\n\u001b[1;32m    189\u001b[0m out \u001b[39m=\u001b[39m {}\n\u001b[1;32m    190\u001b[0m \u001b[39mfor\u001b[39;00m k, v \u001b[39min\u001b[39;00m _out\u001b[39m.\u001b[39mitems():\n\u001b[1;32m    191\u001b[0m \n\u001b[1;32m    192\u001b[0m     \u001b[39m# copy it to a numpy array (it might be one of jax at this point)\u001b[39;00m\n",
      "File \u001b[0;32m~/.cache/pypoetry/virtualenvs/net-flow-opt-nxkwTGQf-py3.10/lib/python3.10/site-packages/pymoo/core/problem.py:229\u001b[0m, in \u001b[0;36mProblem.do\u001b[0;34m(self, X, return_values_of, *args, **kwargs)\u001b[0m\n\u001b[1;32m    227\u001b[0m     \u001b[39mself\u001b[39m\u001b[39m.\u001b[39m_evaluate_elementwise(X, out, \u001b[39m*\u001b[39margs, \u001b[39m*\u001b[39m\u001b[39m*\u001b[39mkwargs)\n\u001b[1;32m    228\u001b[0m \u001b[39melse\u001b[39;00m:\n\u001b[0;32m--> 229\u001b[0m     \u001b[39mself\u001b[39;49m\u001b[39m.\u001b[39;49m_evaluate_vectorized(X, out, \u001b[39m*\u001b[39;49margs, \u001b[39m*\u001b[39;49m\u001b[39m*\u001b[39;49mkwargs)\n\u001b[1;32m    231\u001b[0m \u001b[39m# finally format the output dictionary\u001b[39;00m\n\u001b[1;32m    232\u001b[0m out \u001b[39m=\u001b[39m \u001b[39mself\u001b[39m\u001b[39m.\u001b[39m_format_dict(out, \u001b[39mlen\u001b[39m(X), return_values_of)\n",
      "File \u001b[0;32m~/.cache/pypoetry/virtualenvs/net-flow-opt-nxkwTGQf-py3.10/lib/python3.10/site-packages/pymoo/core/problem.py:237\u001b[0m, in \u001b[0;36mProblem._evaluate_vectorized\u001b[0;34m(self, X, out, *args, **kwargs)\u001b[0m\n\u001b[1;32m    236\u001b[0m \u001b[39mdef\u001b[39;00m \u001b[39m_evaluate_vectorized\u001b[39m(\u001b[39mself\u001b[39m, X, out, \u001b[39m*\u001b[39margs, \u001b[39m*\u001b[39m\u001b[39m*\u001b[39mkwargs):\n\u001b[0;32m--> 237\u001b[0m     \u001b[39mself\u001b[39;49m\u001b[39m.\u001b[39;49m_evaluate(X, out, \u001b[39m*\u001b[39;49margs, \u001b[39m*\u001b[39;49m\u001b[39m*\u001b[39;49mkwargs)\n",
      "File \u001b[0;32m~/net_flow_opt/net_flow_opt/continuous_model.py:30\u001b[0m, in \u001b[0;36mContinuousModel._evaluate\u001b[0;34m(self, x, out, *args, **kwargs)\u001b[0m\n\u001b[1;32m     27\u001b[0m \u001b[39mdef\u001b[39;00m \u001b[39m_evaluate\u001b[39m(\u001b[39mself\u001b[39m, x, out, \u001b[39m*\u001b[39margs, \u001b[39m*\u001b[39m\u001b[39m*\u001b[39mkwargs):\n\u001b[1;32m     28\u001b[0m \n\u001b[1;32m     29\u001b[0m     \u001b[39m# retrieve activities durations\u001b[39;00m\n\u001b[0;32m---> 30\u001b[0m     durations \u001b[39m=\u001b[39m [a\u001b[39m.\u001b[39md \u001b[39mfor\u001b[39;00m a \u001b[39min\u001b[39;00m \u001b[39mself\u001b[39;49m\u001b[39m.\u001b[39;49moriginal_plan\u001b[39m.\u001b[39;49mactivities]\n\u001b[1;32m     32\u001b[0m     \u001b[39m# define activities\u001b[39;00m\n\u001b[1;32m     33\u001b[0m     activities \u001b[39m=\u001b[39m [\n\u001b[1;32m     34\u001b[0m         Activity(\n\u001b[1;32m     35\u001b[0m             component\u001b[39m=\u001b[39mcomponent,\n\u001b[0;32m   (...)\u001b[0m\n\u001b[1;32m     38\u001b[0m         )\n\u001b[1;32m     39\u001b[0m     \u001b[39mfor\u001b[39;00m component, t, d \u001b[39min\u001b[39;00m \u001b[39mzip\u001b[39m(\u001b[39mself\u001b[39m\u001b[39m.\u001b[39msystem\u001b[39m.\u001b[39mcomponents, x, durations)]\n",
      "\u001b[0;31mAttributeError\u001b[0m: 'list' object has no attribute 'activities'"
     ]
    }
   ],
   "source": [
    "res = minimize(\n",
    "    problem=problem,\n",
    "    algorithm=algorithm,\n",
    "    termination=termination,\n",
    "    seed=seed\n",
    ")"
   ]
  }
 ],
 "metadata": {
  "kernelspec": {
   "display_name": "net-flow-opt-nxkwTGQf-py3.10",
   "language": "python",
   "name": "python3"
  },
  "language_info": {
   "codemirror_mode": {
    "name": "ipython",
    "version": 3
   },
   "file_extension": ".py",
   "mimetype": "text/x-python",
   "name": "python",
   "nbconvert_exporter": "python",
   "pygments_lexer": "ipython3",
   "version": "3.10.12"
  },
  "orig_nbformat": 4
 },
 "nbformat": 4,
 "nbformat_minor": 2
}
